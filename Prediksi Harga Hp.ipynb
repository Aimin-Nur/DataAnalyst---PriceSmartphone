{
 "cells": [
  {
   "cell_type": "markdown",
   "id": "391d028e-c1e9-46b8-be96-213006993c69",
   "metadata": {},
   "source": [
    "# Prediksi Harga Hp\n",
    "\n",
    "Latar Belakang : \n",
    "Bob telah memulai perusahaan selulernya sendiri. Dia ingin memberikan perlawanan keras kepada perusahaan besar seperti Apple, Samsung, dll.\n",
    "\n",
    "Dia tidak tahu bagaimana memperkirakan harga ponsel yang dibuat perusahaannya. Di pasar telepon selular yang kompetitif Anda tidak bisa hanya berasumsi. Untuk mengatasi masalah ini ia mengumpulkan data penjualan ponsel dari berbagai perusahaan.\n",
    "\n",
    "Bob ingin mengetahui hubungan antara fitur-fitur sebuah ponsel (misalnya:- RAM, Memori Internal, dll) dan harga jualnya. Tapi dia tidak begitu pandai dalam Machine Learning. Jadi dia membutuhkan bantuan Anda untuk menyelesaikan masalah ini.\n",
    "\n",
    "Dalam soal ini, Anda tidak harus memprediksi harga sebenarnya tetapi kisaran harga yang menunjukkan seberapa tinggi harga tersebut\n",
    "\n",
    "Price_range merupakan variabel target dengan nilai 1 (biaya rendah), 2 (biaya sedang), 3 (biaya tinggi) dan 4 (biaya sangat tinggi)\n",
    "\n",
    "## DataSet\n",
    "src kaggle : https://www.kaggle.com/datasets/jai8004/mobile-price-prediction/"
   ]
  },
  {
   "cell_type": "code",
   "execution_count": 1,
   "id": "af02ee8d-f605-4e3f-850e-db738e2bd8a1",
   "metadata": {
    "tags": []
   },
   "outputs": [],
   "source": [
    "import pandas as pd\n",
    "import seaborn as sns\n",
    "import matplotlib.pyplot as plt\n",
    "\n",
    "df = pd.read_csv('MobilePrice.csv')"
   ]
  },
  {
   "cell_type": "code",
   "execution_count": 2,
   "id": "999d04ba-8ca1-42af-a1f5-f25db5178ea3",
   "metadata": {
    "tags": []
   },
   "outputs": [
    {
     "data": {
      "text/html": [
       "<div>\n",
       "<style scoped>\n",
       "    .dataframe tbody tr th:only-of-type {\n",
       "        vertical-align: middle;\n",
       "    }\n",
       "\n",
       "    .dataframe tbody tr th {\n",
       "        vertical-align: top;\n",
       "    }\n",
       "\n",
       "    .dataframe thead th {\n",
       "        text-align: right;\n",
       "    }\n",
       "</style>\n",
       "<table border=\"1\" class=\"dataframe\">\n",
       "  <thead>\n",
       "    <tr style=\"text-align: right;\">\n",
       "      <th></th>\n",
       "      <th>battery_power</th>\n",
       "      <th>bluetooth</th>\n",
       "      <th>clock_speed</th>\n",
       "      <th>dual_sim</th>\n",
       "      <th>front_camera_mpixels</th>\n",
       "      <th>has_4g</th>\n",
       "      <th>int_memory</th>\n",
       "      <th>m_dep</th>\n",
       "      <th>mobile_wt</th>\n",
       "      <th>n_cores</th>\n",
       "      <th>...</th>\n",
       "      <th>px_height</th>\n",
       "      <th>px_width</th>\n",
       "      <th>ram</th>\n",
       "      <th>sc_h</th>\n",
       "      <th>sc_w</th>\n",
       "      <th>talk_time</th>\n",
       "      <th>has_3g</th>\n",
       "      <th>touch_screen</th>\n",
       "      <th>wifi</th>\n",
       "      <th>price_range</th>\n",
       "    </tr>\n",
       "  </thead>\n",
       "  <tbody>\n",
       "    <tr>\n",
       "      <th>0</th>\n",
       "      <td>842</td>\n",
       "      <td>No</td>\n",
       "      <td>2.2</td>\n",
       "      <td>No</td>\n",
       "      <td>1</td>\n",
       "      <td>No</td>\n",
       "      <td>7</td>\n",
       "      <td>0.6</td>\n",
       "      <td>188</td>\n",
       "      <td>2</td>\n",
       "      <td>...</td>\n",
       "      <td>20</td>\n",
       "      <td>756</td>\n",
       "      <td>2549</td>\n",
       "      <td>9</td>\n",
       "      <td>7</td>\n",
       "      <td>19</td>\n",
       "      <td>No</td>\n",
       "      <td>No</td>\n",
       "      <td>Yes</td>\n",
       "      <td>Medium Cost</td>\n",
       "    </tr>\n",
       "    <tr>\n",
       "      <th>1</th>\n",
       "      <td>1021</td>\n",
       "      <td>Yes</td>\n",
       "      <td>0.5</td>\n",
       "      <td>Yes</td>\n",
       "      <td>0</td>\n",
       "      <td>Yes</td>\n",
       "      <td>53</td>\n",
       "      <td>0.7</td>\n",
       "      <td>136</td>\n",
       "      <td>3</td>\n",
       "      <td>...</td>\n",
       "      <td>905</td>\n",
       "      <td>1988</td>\n",
       "      <td>2631</td>\n",
       "      <td>17</td>\n",
       "      <td>3</td>\n",
       "      <td>7</td>\n",
       "      <td>Yes</td>\n",
       "      <td>Yes</td>\n",
       "      <td>No</td>\n",
       "      <td>High Cost</td>\n",
       "    </tr>\n",
       "    <tr>\n",
       "      <th>2</th>\n",
       "      <td>563</td>\n",
       "      <td>Yes</td>\n",
       "      <td>0.5</td>\n",
       "      <td>Yes</td>\n",
       "      <td>2</td>\n",
       "      <td>Yes</td>\n",
       "      <td>41</td>\n",
       "      <td>0.9</td>\n",
       "      <td>145</td>\n",
       "      <td>5</td>\n",
       "      <td>...</td>\n",
       "      <td>1263</td>\n",
       "      <td>1716</td>\n",
       "      <td>2603</td>\n",
       "      <td>11</td>\n",
       "      <td>2</td>\n",
       "      <td>9</td>\n",
       "      <td>Yes</td>\n",
       "      <td>Yes</td>\n",
       "      <td>No</td>\n",
       "      <td>High Cost</td>\n",
       "    </tr>\n",
       "    <tr>\n",
       "      <th>3</th>\n",
       "      <td>615</td>\n",
       "      <td>Yes</td>\n",
       "      <td>2.5</td>\n",
       "      <td>No</td>\n",
       "      <td>0</td>\n",
       "      <td>No</td>\n",
       "      <td>10</td>\n",
       "      <td>0.8</td>\n",
       "      <td>131</td>\n",
       "      <td>6</td>\n",
       "      <td>...</td>\n",
       "      <td>1216</td>\n",
       "      <td>1786</td>\n",
       "      <td>2769</td>\n",
       "      <td>16</td>\n",
       "      <td>8</td>\n",
       "      <td>11</td>\n",
       "      <td>Yes</td>\n",
       "      <td>No</td>\n",
       "      <td>No</td>\n",
       "      <td>High Cost</td>\n",
       "    </tr>\n",
       "    <tr>\n",
       "      <th>4</th>\n",
       "      <td>1821</td>\n",
       "      <td>Yes</td>\n",
       "      <td>1.2</td>\n",
       "      <td>No</td>\n",
       "      <td>13</td>\n",
       "      <td>Yes</td>\n",
       "      <td>44</td>\n",
       "      <td>0.6</td>\n",
       "      <td>141</td>\n",
       "      <td>2</td>\n",
       "      <td>...</td>\n",
       "      <td>1208</td>\n",
       "      <td>1212</td>\n",
       "      <td>1411</td>\n",
       "      <td>8</td>\n",
       "      <td>2</td>\n",
       "      <td>15</td>\n",
       "      <td>Yes</td>\n",
       "      <td>Yes</td>\n",
       "      <td>No</td>\n",
       "      <td>Medium Cost</td>\n",
       "    </tr>\n",
       "  </tbody>\n",
       "</table>\n",
       "<p>5 rows × 21 columns</p>\n",
       "</div>"
      ],
      "text/plain": [
       "   battery_power bluetooth  clock_speed dual_sim  front_camera_mpixels has_4g  \\\n",
       "0            842        No          2.2       No                     1     No   \n",
       "1           1021       Yes          0.5      Yes                     0    Yes   \n",
       "2            563       Yes          0.5      Yes                     2    Yes   \n",
       "3            615       Yes          2.5       No                     0     No   \n",
       "4           1821       Yes          1.2       No                    13    Yes   \n",
       "\n",
       "   int_memory  m_dep  mobile_wt  n_cores  ...  px_height  px_width   ram  \\\n",
       "0           7    0.6        188        2  ...         20       756  2549   \n",
       "1          53    0.7        136        3  ...        905      1988  2631   \n",
       "2          41    0.9        145        5  ...       1263      1716  2603   \n",
       "3          10    0.8        131        6  ...       1216      1786  2769   \n",
       "4          44    0.6        141        2  ...       1208      1212  1411   \n",
       "\n",
       "   sc_h  sc_w  talk_time  has_3g touch_screen wifi  price_range  \n",
       "0     9     7         19      No           No  Yes  Medium Cost  \n",
       "1    17     3          7     Yes          Yes   No    High Cost  \n",
       "2    11     2          9     Yes          Yes   No    High Cost  \n",
       "3    16     8         11     Yes           No   No    High Cost  \n",
       "4     8     2         15     Yes          Yes   No  Medium Cost  \n",
       "\n",
       "[5 rows x 21 columns]"
      ]
     },
     "execution_count": 2,
     "metadata": {},
     "output_type": "execute_result"
    }
   ],
   "source": [
    "df.head()"
   ]
  },
  {
   "cell_type": "code",
   "execution_count": 3,
   "id": "6199c34c-d355-4f0f-a03e-8a4fbbcd6b49",
   "metadata": {
    "tags": []
   },
   "outputs": [
    {
     "name": "stdout",
     "output_type": "stream",
     "text": [
      "<class 'pandas.core.frame.DataFrame'>\n",
      "RangeIndex: 2000 entries, 0 to 1999\n",
      "Data columns (total 21 columns):\n",
      " #   Column                Non-Null Count  Dtype  \n",
      "---  ------                --------------  -----  \n",
      " 0   battery_power         2000 non-null   int64  \n",
      " 1   bluetooth             2000 non-null   object \n",
      " 2   clock_speed           2000 non-null   float64\n",
      " 3   dual_sim              2000 non-null   object \n",
      " 4   front_camera_mpixels  2000 non-null   int64  \n",
      " 5   has_4g                2000 non-null   object \n",
      " 6   int_memory            2000 non-null   int64  \n",
      " 7   m_dep                 2000 non-null   float64\n",
      " 8   mobile_wt             2000 non-null   int64  \n",
      " 9   n_cores               2000 non-null   int64  \n",
      " 10  pc                    2000 non-null   int64  \n",
      " 11  px_height             2000 non-null   int64  \n",
      " 12  px_width              2000 non-null   int64  \n",
      " 13  ram                   2000 non-null   int64  \n",
      " 14  sc_h                  2000 non-null   int64  \n",
      " 15  sc_w                  2000 non-null   int64  \n",
      " 16  talk_time             2000 non-null   int64  \n",
      " 17  has_3g                2000 non-null   object \n",
      " 18  touch_screen          2000 non-null   object \n",
      " 19  wifi                  2000 non-null   object \n",
      " 20  price_range           2000 non-null   object \n",
      "dtypes: float64(2), int64(12), object(7)\n",
      "memory usage: 328.3+ KB\n"
     ]
    }
   ],
   "source": [
    "df.info()"
   ]
  },
  {
   "cell_type": "code",
   "execution_count": 4,
   "id": "2082b87e-2eb3-4d74-8ce9-457856f31536",
   "metadata": {
    "tags": []
   },
   "outputs": [
    {
     "data": {
      "text/plain": [
       "(2000, 21)"
      ]
     },
     "execution_count": 4,
     "metadata": {},
     "output_type": "execute_result"
    }
   ],
   "source": [
    "df.shape"
   ]
  },
  {
   "cell_type": "code",
   "execution_count": 5,
   "id": "ad10efdd-c579-43f9-acd3-d0c2a4721a2d",
   "metadata": {
    "tags": []
   },
   "outputs": [
    {
     "data": {
      "text/html": [
       "<div>\n",
       "<style scoped>\n",
       "    .dataframe tbody tr th:only-of-type {\n",
       "        vertical-align: middle;\n",
       "    }\n",
       "\n",
       "    .dataframe tbody tr th {\n",
       "        vertical-align: top;\n",
       "    }\n",
       "\n",
       "    .dataframe thead th {\n",
       "        text-align: right;\n",
       "    }\n",
       "</style>\n",
       "<table border=\"1\" class=\"dataframe\">\n",
       "  <thead>\n",
       "    <tr style=\"text-align: right;\">\n",
       "      <th></th>\n",
       "      <th>battery_power</th>\n",
       "      <th>clock_speed</th>\n",
       "      <th>front_camera_mpixels</th>\n",
       "      <th>int_memory</th>\n",
       "      <th>m_dep</th>\n",
       "      <th>mobile_wt</th>\n",
       "      <th>n_cores</th>\n",
       "      <th>pc</th>\n",
       "      <th>px_height</th>\n",
       "      <th>px_width</th>\n",
       "      <th>ram</th>\n",
       "      <th>sc_h</th>\n",
       "      <th>sc_w</th>\n",
       "      <th>talk_time</th>\n",
       "    </tr>\n",
       "  </thead>\n",
       "  <tbody>\n",
       "    <tr>\n",
       "      <th>count</th>\n",
       "      <td>2000.000000</td>\n",
       "      <td>2000.000000</td>\n",
       "      <td>2000.000000</td>\n",
       "      <td>2000.000000</td>\n",
       "      <td>2000.000000</td>\n",
       "      <td>2000.000000</td>\n",
       "      <td>2000.000000</td>\n",
       "      <td>2000.000000</td>\n",
       "      <td>2000.000000</td>\n",
       "      <td>2000.000000</td>\n",
       "      <td>2000.000000</td>\n",
       "      <td>2000.000000</td>\n",
       "      <td>2000.000000</td>\n",
       "      <td>2000.000000</td>\n",
       "    </tr>\n",
       "    <tr>\n",
       "      <th>mean</th>\n",
       "      <td>1238.518500</td>\n",
       "      <td>1.522250</td>\n",
       "      <td>4.309500</td>\n",
       "      <td>32.046500</td>\n",
       "      <td>0.501750</td>\n",
       "      <td>140.249000</td>\n",
       "      <td>4.520500</td>\n",
       "      <td>9.916500</td>\n",
       "      <td>645.108000</td>\n",
       "      <td>1251.515500</td>\n",
       "      <td>2124.213000</td>\n",
       "      <td>12.306500</td>\n",
       "      <td>5.767000</td>\n",
       "      <td>11.011000</td>\n",
       "    </tr>\n",
       "    <tr>\n",
       "      <th>std</th>\n",
       "      <td>439.418206</td>\n",
       "      <td>0.816004</td>\n",
       "      <td>4.341444</td>\n",
       "      <td>18.145715</td>\n",
       "      <td>0.288416</td>\n",
       "      <td>35.399655</td>\n",
       "      <td>2.287837</td>\n",
       "      <td>6.064315</td>\n",
       "      <td>443.780811</td>\n",
       "      <td>432.199447</td>\n",
       "      <td>1084.732044</td>\n",
       "      <td>4.213245</td>\n",
       "      <td>4.356398</td>\n",
       "      <td>5.463955</td>\n",
       "    </tr>\n",
       "    <tr>\n",
       "      <th>min</th>\n",
       "      <td>501.000000</td>\n",
       "      <td>0.500000</td>\n",
       "      <td>0.000000</td>\n",
       "      <td>2.000000</td>\n",
       "      <td>0.100000</td>\n",
       "      <td>80.000000</td>\n",
       "      <td>1.000000</td>\n",
       "      <td>0.000000</td>\n",
       "      <td>0.000000</td>\n",
       "      <td>500.000000</td>\n",
       "      <td>256.000000</td>\n",
       "      <td>5.000000</td>\n",
       "      <td>0.000000</td>\n",
       "      <td>2.000000</td>\n",
       "    </tr>\n",
       "    <tr>\n",
       "      <th>25%</th>\n",
       "      <td>851.750000</td>\n",
       "      <td>0.700000</td>\n",
       "      <td>1.000000</td>\n",
       "      <td>16.000000</td>\n",
       "      <td>0.200000</td>\n",
       "      <td>109.000000</td>\n",
       "      <td>3.000000</td>\n",
       "      <td>5.000000</td>\n",
       "      <td>282.750000</td>\n",
       "      <td>874.750000</td>\n",
       "      <td>1207.500000</td>\n",
       "      <td>9.000000</td>\n",
       "      <td>2.000000</td>\n",
       "      <td>6.000000</td>\n",
       "    </tr>\n",
       "    <tr>\n",
       "      <th>50%</th>\n",
       "      <td>1226.000000</td>\n",
       "      <td>1.500000</td>\n",
       "      <td>3.000000</td>\n",
       "      <td>32.000000</td>\n",
       "      <td>0.500000</td>\n",
       "      <td>141.000000</td>\n",
       "      <td>4.000000</td>\n",
       "      <td>10.000000</td>\n",
       "      <td>564.000000</td>\n",
       "      <td>1247.000000</td>\n",
       "      <td>2146.500000</td>\n",
       "      <td>12.000000</td>\n",
       "      <td>5.000000</td>\n",
       "      <td>11.000000</td>\n",
       "    </tr>\n",
       "    <tr>\n",
       "      <th>75%</th>\n",
       "      <td>1615.250000</td>\n",
       "      <td>2.200000</td>\n",
       "      <td>7.000000</td>\n",
       "      <td>48.000000</td>\n",
       "      <td>0.800000</td>\n",
       "      <td>170.000000</td>\n",
       "      <td>7.000000</td>\n",
       "      <td>15.000000</td>\n",
       "      <td>947.250000</td>\n",
       "      <td>1633.000000</td>\n",
       "      <td>3064.500000</td>\n",
       "      <td>16.000000</td>\n",
       "      <td>9.000000</td>\n",
       "      <td>16.000000</td>\n",
       "    </tr>\n",
       "    <tr>\n",
       "      <th>max</th>\n",
       "      <td>1998.000000</td>\n",
       "      <td>3.000000</td>\n",
       "      <td>19.000000</td>\n",
       "      <td>64.000000</td>\n",
       "      <td>1.000000</td>\n",
       "      <td>200.000000</td>\n",
       "      <td>8.000000</td>\n",
       "      <td>20.000000</td>\n",
       "      <td>1960.000000</td>\n",
       "      <td>1998.000000</td>\n",
       "      <td>3998.000000</td>\n",
       "      <td>19.000000</td>\n",
       "      <td>18.000000</td>\n",
       "      <td>20.000000</td>\n",
       "    </tr>\n",
       "  </tbody>\n",
       "</table>\n",
       "</div>"
      ],
      "text/plain": [
       "       battery_power  clock_speed  front_camera_mpixels   int_memory  \\\n",
       "count    2000.000000  2000.000000           2000.000000  2000.000000   \n",
       "mean     1238.518500     1.522250              4.309500    32.046500   \n",
       "std       439.418206     0.816004              4.341444    18.145715   \n",
       "min       501.000000     0.500000              0.000000     2.000000   \n",
       "25%       851.750000     0.700000              1.000000    16.000000   \n",
       "50%      1226.000000     1.500000              3.000000    32.000000   \n",
       "75%      1615.250000     2.200000              7.000000    48.000000   \n",
       "max      1998.000000     3.000000             19.000000    64.000000   \n",
       "\n",
       "             m_dep    mobile_wt      n_cores           pc    px_height  \\\n",
       "count  2000.000000  2000.000000  2000.000000  2000.000000  2000.000000   \n",
       "mean      0.501750   140.249000     4.520500     9.916500   645.108000   \n",
       "std       0.288416    35.399655     2.287837     6.064315   443.780811   \n",
       "min       0.100000    80.000000     1.000000     0.000000     0.000000   \n",
       "25%       0.200000   109.000000     3.000000     5.000000   282.750000   \n",
       "50%       0.500000   141.000000     4.000000    10.000000   564.000000   \n",
       "75%       0.800000   170.000000     7.000000    15.000000   947.250000   \n",
       "max       1.000000   200.000000     8.000000    20.000000  1960.000000   \n",
       "\n",
       "          px_width          ram         sc_h         sc_w    talk_time  \n",
       "count  2000.000000  2000.000000  2000.000000  2000.000000  2000.000000  \n",
       "mean   1251.515500  2124.213000    12.306500     5.767000    11.011000  \n",
       "std     432.199447  1084.732044     4.213245     4.356398     5.463955  \n",
       "min     500.000000   256.000000     5.000000     0.000000     2.000000  \n",
       "25%     874.750000  1207.500000     9.000000     2.000000     6.000000  \n",
       "50%    1247.000000  2146.500000    12.000000     5.000000    11.000000  \n",
       "75%    1633.000000  3064.500000    16.000000     9.000000    16.000000  \n",
       "max    1998.000000  3998.000000    19.000000    18.000000    20.000000  "
      ]
     },
     "execution_count": 5,
     "metadata": {},
     "output_type": "execute_result"
    }
   ],
   "source": [
    "df.describe()"
   ]
  },
  {
   "cell_type": "code",
   "execution_count": 6,
   "id": "d2d324f2-b394-4e38-a41c-e3e52b9ab03f",
   "metadata": {
    "tags": []
   },
   "outputs": [
    {
     "data": {
      "text/plain": [
       "battery_power           0\n",
       "bluetooth               0\n",
       "clock_speed             0\n",
       "dual_sim                0\n",
       "front_camera_mpixels    0\n",
       "has_4g                  0\n",
       "int_memory              0\n",
       "m_dep                   0\n",
       "mobile_wt               0\n",
       "n_cores                 0\n",
       "pc                      0\n",
       "px_height               0\n",
       "px_width                0\n",
       "ram                     0\n",
       "sc_h                    0\n",
       "sc_w                    0\n",
       "talk_time               0\n",
       "has_3g                  0\n",
       "touch_screen            0\n",
       "wifi                    0\n",
       "price_range             0\n",
       "dtype: int64"
      ]
     },
     "execution_count": 6,
     "metadata": {},
     "output_type": "execute_result"
    }
   ],
   "source": [
    "df.isna().sum()"
   ]
  },
  {
   "cell_type": "code",
   "execution_count": 7,
   "id": "f14439a6-86e5-4c0b-b485-c630410de2e9",
   "metadata": {
    "tags": []
   },
   "outputs": [
    {
     "data": {
      "text/plain": [
       "0"
      ]
     },
     "execution_count": 7,
     "metadata": {},
     "output_type": "execute_result"
    }
   ],
   "source": [
    "df.duplicated().sum()"
   ]
  },
  {
   "cell_type": "code",
   "execution_count": 8,
   "id": "4e9efbfb-5410-4f9e-b3d6-ab2606f3e9b7",
   "metadata": {
    "tags": []
   },
   "outputs": [
    {
     "data": {
      "text/plain": [
       "Text(0.5, 1.0, \"Distribusi Harga Hp berdasarkan 'price_range'\")"
      ]
     },
     "execution_count": 8,
     "metadata": {},
     "output_type": "execute_result"
    },
    {
     "data": {
      "image/png": "[encoded data removed]",
      "text/plain": [
       "<Figure size 500x500 with 1 Axes>"
      ]
     },
     "metadata": {},
     "output_type": "display_data"
    }
   ],
   "source": [
    "sns.catplot(data=df, x='price_range', kind='count')\n",
    "plt.title(\"Distribusi Harga Hp berdasarkan 'price_range'\")"
   ]
  },
  {
   "cell_type": "markdown",
   "id": "0da27578-24cb-4a0b-a226-2a18d7ad065e",
   "metadata": {},
   "source": [
    "Mengubah nilai 'price_range' menjadi numeric"
   ]
  },
  {
   "cell_type": "code",
   "execution_count": 9,
   "id": "9661f1d7-c76d-43e4-81b6-25c628805be7",
   "metadata": {
    "tags": []
   },
   "outputs": [],
   "source": [
    "price = {'Low Cost':1, 'Medium Cost':2 , 'High Cost':3 , 'Very High Cost':4}"
   ]
  },
  {
   "cell_type": "code",
   "execution_count": 10,
   "id": "0c574a9d-627c-400f-ace6-594c80c94e73",
   "metadata": {
    "tags": []
   },
   "outputs": [],
   "source": [
    "df['price_range'] =  df['price_range'].map(price)"
   ]
  },
  {
   "cell_type": "code",
   "execution_count": 11,
   "id": "be724385-9b29-404b-ab3d-4af6433628de",
   "metadata": {
    "tags": []
   },
   "outputs": [
    {
     "data": {
      "text/html": [
       "<div>\n",
       "<style scoped>\n",
       "    .dataframe tbody tr th:only-of-type {\n",
       "        vertical-align: middle;\n",
       "    }\n",
       "\n",
       "    .dataframe tbody tr th {\n",
       "        vertical-align: top;\n",
       "    }\n",
       "\n",
       "    .dataframe thead th {\n",
       "        text-align: right;\n",
       "    }\n",
       "</style>\n",
       "<table border=\"1\" class=\"dataframe\">\n",
       "  <thead>\n",
       "    <tr style=\"text-align: right;\">\n",
       "      <th></th>\n",
       "      <th>battery_power</th>\n",
       "      <th>bluetooth</th>\n",
       "      <th>clock_speed</th>\n",
       "      <th>dual_sim</th>\n",
       "      <th>front_camera_mpixels</th>\n",
       "      <th>has_4g</th>\n",
       "      <th>int_memory</th>\n",
       "      <th>m_dep</th>\n",
       "      <th>mobile_wt</th>\n",
       "      <th>n_cores</th>\n",
       "      <th>...</th>\n",
       "      <th>px_height</th>\n",
       "      <th>px_width</th>\n",
       "      <th>ram</th>\n",
       "      <th>sc_h</th>\n",
       "      <th>sc_w</th>\n",
       "      <th>talk_time</th>\n",
       "      <th>has_3g</th>\n",
       "      <th>touch_screen</th>\n",
       "      <th>wifi</th>\n",
       "      <th>price_range</th>\n",
       "    </tr>\n",
       "  </thead>\n",
       "  <tbody>\n",
       "    <tr>\n",
       "      <th>0</th>\n",
       "      <td>842</td>\n",
       "      <td>No</td>\n",
       "      <td>2.2</td>\n",
       "      <td>No</td>\n",
       "      <td>1</td>\n",
       "      <td>No</td>\n",
       "      <td>7</td>\n",
       "      <td>0.6</td>\n",
       "      <td>188</td>\n",
       "      <td>2</td>\n",
       "      <td>...</td>\n",
       "      <td>20</td>\n",
       "      <td>756</td>\n",
       "      <td>2549</td>\n",
       "      <td>9</td>\n",
       "      <td>7</td>\n",
       "      <td>19</td>\n",
       "      <td>No</td>\n",
       "      <td>No</td>\n",
       "      <td>Yes</td>\n",
       "      <td>2</td>\n",
       "    </tr>\n",
       "    <tr>\n",
       "      <th>1</th>\n",
       "      <td>1021</td>\n",
       "      <td>Yes</td>\n",
       "      <td>0.5</td>\n",
       "      <td>Yes</td>\n",
       "      <td>0</td>\n",
       "      <td>Yes</td>\n",
       "      <td>53</td>\n",
       "      <td>0.7</td>\n",
       "      <td>136</td>\n",
       "      <td>3</td>\n",
       "      <td>...</td>\n",
       "      <td>905</td>\n",
       "      <td>1988</td>\n",
       "      <td>2631</td>\n",
       "      <td>17</td>\n",
       "      <td>3</td>\n",
       "      <td>7</td>\n",
       "      <td>Yes</td>\n",
       "      <td>Yes</td>\n",
       "      <td>No</td>\n",
       "      <td>3</td>\n",
       "    </tr>\n",
       "    <tr>\n",
       "      <th>2</th>\n",
       "      <td>563</td>\n",
       "      <td>Yes</td>\n",
       "      <td>0.5</td>\n",
       "      <td>Yes</td>\n",
       "      <td>2</td>\n",
       "      <td>Yes</td>\n",
       "      <td>41</td>\n",
       "      <td>0.9</td>\n",
       "      <td>145</td>\n",
       "      <td>5</td>\n",
       "      <td>...</td>\n",
       "      <td>1263</td>\n",
       "      <td>1716</td>\n",
       "      <td>2603</td>\n",
       "      <td>11</td>\n",
       "      <td>2</td>\n",
       "      <td>9</td>\n",
       "      <td>Yes</td>\n",
       "      <td>Yes</td>\n",
       "      <td>No</td>\n",
       "      <td>3</td>\n",
       "    </tr>\n",
       "    <tr>\n",
       "      <th>3</th>\n",
       "      <td>615</td>\n",
       "      <td>Yes</td>\n",
       "      <td>2.5</td>\n",
       "      <td>No</td>\n",
       "      <td>0</td>\n",
       "      <td>No</td>\n",
       "      <td>10</td>\n",
       "      <td>0.8</td>\n",
       "      <td>131</td>\n",
       "      <td>6</td>\n",
       "      <td>...</td>\n",
       "      <td>1216</td>\n",
       "      <td>1786</td>\n",
       "      <td>2769</td>\n",
       "      <td>16</td>\n",
       "      <td>8</td>\n",
       "      <td>11</td>\n",
       "      <td>Yes</td>\n",
       "      <td>No</td>\n",
       "      <td>No</td>\n",
       "      <td>3</td>\n",
       "    </tr>\n",
       "    <tr>\n",
       "      <th>4</th>\n",
       "      <td>1821</td>\n",
       "      <td>Yes</td>\n",
       "      <td>1.2</td>\n",
       "      <td>No</td>\n",
       "      <td>13</td>\n",
       "      <td>Yes</td>\n",
       "      <td>44</td>\n",
       "      <td>0.6</td>\n",
       "      <td>141</td>\n",
       "      <td>2</td>\n",
       "      <td>...</td>\n",
       "      <td>1208</td>\n",
       "      <td>1212</td>\n",
       "      <td>1411</td>\n",
       "      <td>8</td>\n",
       "      <td>2</td>\n",
       "      <td>15</td>\n",
       "      <td>Yes</td>\n",
       "      <td>Yes</td>\n",
       "      <td>No</td>\n",
       "      <td>2</td>\n",
       "    </tr>\n",
       "  </tbody>\n",
       "</table>\n",
       "<p>5 rows × 21 columns</p>\n",
       "</div>"
      ],
      "text/plain": [
       "   battery_power bluetooth  clock_speed dual_sim  front_camera_mpixels has_4g  \\\n",
       "0            842        No          2.2       No                     1     No   \n",
       "1           1021       Yes          0.5      Yes                     0    Yes   \n",
       "2            563       Yes          0.5      Yes                     2    Yes   \n",
       "3            615       Yes          2.5       No                     0     No   \n",
       "4           1821       Yes          1.2       No                    13    Yes   \n",
       "\n",
       "   int_memory  m_dep  mobile_wt  n_cores  ...  px_height  px_width   ram  \\\n",
       "0           7    0.6        188        2  ...         20       756  2549   \n",
       "1          53    0.7        136        3  ...        905      1988  2631   \n",
       "2          41    0.9        145        5  ...       1263      1716  2603   \n",
       "3          10    0.8        131        6  ...       1216      1786  2769   \n",
       "4          44    0.6        141        2  ...       1208      1212  1411   \n",
       "\n",
       "   sc_h  sc_w  talk_time  has_3g touch_screen wifi price_range  \n",
       "0     9     7         19      No           No  Yes           2  \n",
       "1    17     3          7     Yes          Yes   No           3  \n",
       "2    11     2          9     Yes          Yes   No           3  \n",
       "3    16     8         11     Yes           No   No           3  \n",
       "4     8     2         15     Yes          Yes   No           2  \n",
       "\n",
       "[5 rows x 21 columns]"
      ]
     },
     "execution_count": 11,
     "metadata": {},
     "output_type": "execute_result"
    }
   ],
   "source": [
    "df.head()"
   ]
  },
  {
   "cell_type": "markdown",
   "id": "47003c0b-d87a-4efb-ae6b-a45ddcd640af",
   "metadata": {},
   "source": [
    "Sekarang nilai dari kolom 'price_range' sudah menjadi numeric :\n",
    "- low price = 1\n",
    "- medium price = 2\n",
    "- high price = 3\n",
    "- very high price = 4"
   ]
  },
  {
   "cell_type": "code",
   "execution_count": 12,
   "id": "2c7232e5-c7d1-446d-9982-2bc85429e59c",
   "metadata": {
    "tags": []
   },
   "outputs": [
    {
     "data": {
      "text/plain": [
       "Text(0.5, 1.0, \"Distribusi Harga Hp berdasarkan 'price_range'\")"
      ]
     },
     "execution_count": 12,
     "metadata": {},
     "output_type": "execute_result"
    },
    {
     "data": {
      "image/png": "[encoded data removed]",
      "text/plain": [
       "<Figure size 500x500 with 1 Axes>"
      ]
     },
     "metadata": {},
     "output_type": "display_data"
    }
   ],
   "source": [
    "sns.catplot(data=df, x='price_range', kind='count')\n",
    "plt.title(\"Distribusi Harga Hp berdasarkan 'price_range'\")"
   ]
  },
  {
   "cell_type": "markdown",
   "id": "0003b208-db4b-46bd-b86c-a552ce2da16e",
   "metadata": {},
   "source": [
    "kisaran harga memiliki distribusi yang merata, artinya data sampel untuk setiap kisaran harga adalah sama"
   ]
  },
  {
   "cell_type": "code",
   "execution_count": 13,
   "id": "f17196b2-fac3-41c6-b3cb-3704d776f687",
   "metadata": {},
   "outputs": [
    {
     "data": {
      "image/png": "[encoded data removed]",
      "text/plain": [
       "<Figure size 450x300 with 1 Axes>"
      ]
     },
     "metadata": {},
     "output_type": "display_data"
    },
    {
     "data": {
      "image/png": "[encoded data removed]",
      "text/plain": [
       "<Figure size 450x300 with 1 Axes>"
      ]
     },
     "metadata": {},
     "output_type": "display_data"
    },
    {
     "data": {
      "image/png": "[encoded data removed]",
      "text/plain": [
       "<Figure size 450x300 with 1 Axes>"
      ]
     },
     "metadata": {},
     "output_type": "display_data"
    },
    {
     "data": {
      "image/png": "[encoded data removed]",
      "text/plain": [
       "<Figure size 450x300 with 1 Axes>"
      ]
     },
     "metadata": {},
     "output_type": "display_data"
    },
    {
     "data": {
      "image/png": "[encoded data removed]",
      "text/plain": [
       "<Figure size 450x300 with 1 Axes>"
      ]
     },
     "metadata": {},
     "output_type": "display_data"
    },
    {
     "data": {
      "image/png": "[encoded data removed]",
      "text/plain": [
       "<Figure size 450x300 with 1 Axes>"
      ]
     },
     "metadata": {},
     "output_type": "display_data"
    },
    {
     "data": {
      "image/png": "[encoded data removed]",
      "text/plain": [
       "<Figure size 450x300 with 1 Axes>"
      ]
     },
     "metadata": {},
     "output_type": "display_data"
    },
    {
     "data": {
      "image/png": "[encoded data removed]",
      "text/plain": [
       "<Figure size 450x300 with 1 Axes>"
      ]
     },
     "metadata": {},
     "output_type": "display_data"
    },
    {
     "data": {
      "image/png": "[encoded data removed]",
      "text/plain": [
       "<Figure size 450x300 with 1 Axes>"
      ]
     },
     "metadata": {},
     "output_type": "display_data"
    },
    {
     "data": {
      "image/png": "[encoded data removed]",
      "text/plain": [
       "<Figure size 450x300 with 1 Axes>"
      ]
     },
     "metadata": {},
     "output_type": "display_data"
    },
    {
     "data": {
      "image/png": "[encoded data removed]",
      "text/plain": [
       "<Figure size 450x300 with 1 Axes>"
      ]
     },
     "metadata": {},
     "output_type": "display_data"
    },
    {
     "data": {
      "image/png": "[encoded data removed]",
      "text/plain": [
       "<Figure size 450x300 with 1 Axes>"
      ]
     },
     "metadata": {},
     "output_type": "display_data"
    },
    {
     "data": {
      "image/png": "[encoded data removed]",
      "text/plain": [
       "<Figure size 450x300 with 1 Axes>"
      ]
     },
     "metadata": {},
     "output_type": "display_data"
    },
    {
     "data": {
      "image/png": "[encoded data removed]",
      "text/plain": [
       "<Figure size 450x300 with 1 Axes>"
      ]
     },
     "metadata": {},
     "output_type": "display_data"
    },
    {
     "data": {
      "image/png": "[encoded data removed]",
      "text/plain": [
       "<Figure size 450x300 with 1 Axes>"
      ]
     },
     "metadata": {},
     "output_type": "display_data"
    },
    {
     "data": {
      "image/png": "[encoded data removed]",
      "text/plain": [
       "<Figure size 450x300 with 1 Axes>"
      ]
     },
     "metadata": {},
     "output_type": "display_data"
    },
    {
     "data": {
      "image/png": "[encoded data removed]",
      "text/plain": [
       "<Figure size 450x300 with 1 Axes>"
      ]
     },
     "metadata": {},
     "output_type": "display_data"
    },
    {
     "data": {
      "image/png": "[encoded data removed]",
      "text/plain": [
       "<Figure size 450x300 with 1 Axes>"
      ]
     },
     "metadata": {},
     "output_type": "display_data"
    },
    {
     "data": {
      "image/png": "[encoded data removed]",
      "text/plain": [
       "<Figure size 450x300 with 1 Axes>"
      ]
     },
     "metadata": {},
     "output_type": "display_data"
    },
    {
     "data": {
      "image/png": "[encoded data removed]",
      "text/plain": [
       "<Figure size 450x300 with 1 Axes>"
      ]
     },
     "metadata": {},
     "output_type": "display_data"
    }
   ],
   "source": [
    "column = df.columns[~(df.columns == 'price_range')]\n",
    "for i in column:\n",
    "  sns.catplot(data=df, x='price_range', y=i, kind='bar', height=3, aspect=1.5)\n",
    "  plt.title(f\"Price Range vs {i}\")"
   ]
  },
  {
   "cell_type": "markdown",
   "id": "f9a319cf-c62e-43a0-84a3-2d2a0c9e7476",
   "metadata": {},
   "source": [
    "satu-satunya variabel kuat yang menentukan kisaran harga adalah RAM (semakin tinggi kapasitas RAM maka range_harga juga semakin tinggi)"
   ]
  },
  {
   "cell_type": "code",
   "execution_count": 14,
   "id": "842838e2-ce46-41e7-807a-4225c9fb9f04",
   "metadata": {
    "tags": []
   },
   "outputs": [
    {
     "name": "stdout",
     "output_type": "stream",
     "text": [
      "price_range                   1          2          3          4\n",
      "battery_power         1116.9020  1228.8680  1228.3200  1379.9840\n",
      "clock_speed              1.5502     1.4886     1.5298     1.5204\n",
      "front_camera_mpixels     4.0840     4.3400     4.4980     4.3160\n",
      "int_memory              31.1740    32.1160    30.9200    33.9760\n",
      "m_dep                    0.4902     0.5240     0.4908     0.5020\n",
      "mobile_wt              140.5520   140.5100   143.6140   136.3200\n",
      "n_cores                  4.6000     4.2980     4.6820     4.5020\n",
      "pc                       9.5740     9.9240    10.0180    10.1500\n",
      "px_height              536.4080   666.8920   632.2840   744.8480\n",
      "px_width              1150.2700  1251.9080  1234.0460  1369.8380\n",
      "ram                    785.3140  1679.4900  2582.8160  3449.2320\n",
      "sc_h                    12.3240    12.2120    12.0100    12.6800\n",
      "sc_w                     5.6820     5.5440     5.7140     6.1280\n",
      "talk_time               10.6120    11.3620    10.9720    11.0980\n"
     ]
    },
    {
     "name": "stderr",
     "output_type": "stream",
     "text": [
      "/var/folders/xs/hmgp6fbx0ql09zjj9ntm07l40000gn/T/ipykernel_1464/500791716.py:1: FutureWarning: The default value of numeric_only in DataFrameGroupBy.mean is deprecated. In a future version, numeric_only will default to False. Either specify numeric_only or select only columns which should be valid for the function.\n",
      "  average_by_price_range = df.groupby('price_range').mean().T\n"
     ]
    }
   ],
   "source": [
    "average_by_price_range = df.groupby('price_range').mean().T\n",
    "\n",
    "# Print or display the resulting DataFrame\n",
    "print(average_by_price_range)"
   ]
  },
  {
   "cell_type": "markdown",
   "id": "c24b2d85-55f2-44ff-a5c1-a3a6dee33166",
   "metadata": {},
   "source": [
    "### Data Insight\n",
    "\n",
    "Analisis:\n",
    "1. Daya baterai: ponsel paling mahal (kisaran harga 3) memiliki daya baterai tertinggi, sedangkan ponsel termurah memiliki daya baterai paling rendah\n",
    "2. Bluetooth: semua kategori ponsel memiliki bluetooth\n",
    "3. Kecepatan Jam & waktu bicara: tidak ada perbedaan yang signifikan antara setiap kisaran harga.\n",
    "4. Dual sim: semua kategori ponsel memiliki dual sim\n",
    "5. Kamera (kamera depan & kamera utama): terdapat kesamaan jumlah megapiksel kamera depan untuk semua kategori, namun yang termahal memiliki megapiksel kamera utama terbaik\n",
    "6. Jaringan (3G, 4G, WiFi): semua ponsel memiliki jaringan 3G dan 4G, dan jumlahnya tidak menunjukkan variasi yang signifikan di semua kategori. Wifi juga sepertinya tidak mempengaruhi harga.\n",
    "7. Sistem operasi (ncore, memori internal, ram): kisaran harga 3 memiliki memori internal dan ram tertinggi, yang masuk akal karena biasanya ponsel mahal memiliki memori & kecepatan lebih tinggi. Semua kisaran harga memiliki ncore yang serupa\n",
    "8. Ukuran dan resolusi layar: ponsel termahal memiliki resolusi tertinggi. Namun menarik untuk melihat bahwa ukuran layar ponsel termurah mendekati yang termahal.\n",
    "9. Berat: kisaran harga 3 adalah ponsel paling ringan sedangkan kisaran harga 0 adalah ponsel terberat.\n",
    "10. Layar sentuh: semua ponsel memiliki layar sentuh\n",
    "\n",
    "Kesimpulannya, daya baterai, kamera, sistem operasi (khususnya ram dan memori), resolusi, dan bobot paling mempengaruhi kisaran harga."
   ]
  },
  {
   "cell_type": "markdown",
   "id": "84c4aa95-bab1-4ce9-bd91-217d02c2650b",
   "metadata": {},
   "source": [
    "#### Price-range dan RAM"
   ]
  },
  {
   "cell_type": "code",
   "execution_count": 15,
   "id": "169e2460-0773-4a92-82a8-1b29f3155391",
   "metadata": {
    "tags": []
   },
   "outputs": [
    {
     "data": {
      "text/plain": [
       "<seaborn.axisgrid.FacetGrid at 0x1468de190>"
      ]
     },
     "execution_count": 15,
     "metadata": {},
     "output_type": "execute_result"
    },
    {
     "data": {
      "image/png": "[encoded data removed]",
      "text/plain": [
       "<Figure size 500x500 with 1 Axes>"
      ]
     },
     "metadata": {},
     "output_type": "display_data"
    }
   ],
   "source": [
    "sns.catplot(data=df, x='price_range', y='ram')"
   ]
  },
  {
   "cell_type": "markdown",
   "id": "a280ad2d-e580-410e-ac92-ab3222fd2e11",
   "metadata": {
    "tags": []
   },
   "source": [
    "harga hp yang paling tinggi adalah hp yang kapasitas ramnya juga tinggi."
   ]
  },
  {
   "cell_type": "markdown",
   "id": "6bd6c6d4-b568-4cff-a6dd-77cd0de62cbb",
   "metadata": {},
   "source": [
    "#### Price_range dan Baterai"
   ]
  },
  {
   "cell_type": "code",
   "execution_count": 16,
   "id": "13a254fe-955a-4e6c-a9e6-5fac7c753ada",
   "metadata": {
    "tags": []
   },
   "outputs": [
    {
     "data": {
      "text/plain": [
       "Text(0.5, 1.0, 'Rata-rata Battery Power by Price Range')"
      ]
     },
     "execution_count": 16,
     "metadata": {},
     "output_type": "execute_result"
    },
    {
     "data": {
      "image/png": "[encoded data removed]",
      "text/plain": [
       "<Figure size 500x500 with 1 Axes>"
      ]
     },
     "metadata": {},
     "output_type": "display_data"
    }
   ],
   "source": [
    "sns.catplot(data=df, x='price_range', y='battery_power', kind='bar', palette='pastel')\n",
    "plt.title('Rata-rata Battery Power by Price Range')"
   ]
  },
  {
   "cell_type": "code",
   "execution_count": 17,
   "id": "4f1fa9bd-5ec0-45e4-a975-1271acab3075",
   "metadata": {
    "tags": []
   },
   "outputs": [
    {
     "data": {
      "text/plain": [
       "Text(0.5, 1.0, 'Battery Power Distribution by Price Range')"
      ]
     },
     "execution_count": 17,
     "metadata": {},
     "output_type": "execute_result"
    },
    {
     "data": {
      "image/png": "[encoded data removed]",
      "text/plain": [
       "<Figure size 640x480 with 1 Axes>"
      ]
     },
     "metadata": {},
     "output_type": "display_data"
    }
   ],
   "source": [
    "sns.histplot(data=df, x='battery_power', hue='price_range')\n",
    "\n",
    "# Add labels and a title\n",
    "plt.xlabel('Battery Power')\n",
    "plt.ylabel('Frequency')\n",
    "plt.title('Battery Power Distribution by Price Range')"
   ]
  },
  {
   "cell_type": "markdown",
   "id": "7d32f820-6b04-4e33-be50-2a9aad9dd65c",
   "metadata": {},
   "source": [
    "semakin tinggi daya baterai maka kisaran harganya akan semakin mahal\n",
    "dari grafik tersebut juga dapat melihat bahwa kisaran harga 1 - 2 (biaya menengah - tinggi) memiliki daya baterai yang sangat mirip"
   ]
  },
  {
   "cell_type": "markdown",
   "id": "48d5b4a1-a123-418e-9c82-b929cfc53630",
   "metadata": {},
   "source": [
    "#### Price_range dan Kamera"
   ]
  },
  {
   "cell_type": "code",
   "execution_count": 18,
   "id": "6f29df66-78b3-4674-aa3d-af414cd0876f",
   "metadata": {
    "tags": []
   },
   "outputs": [
    {
     "data": {
      "image/png": "[encoded data removed]",
      "text/plain": [
       "<Figure size 1500x500 with 2 Axes>"
      ]
     },
     "metadata": {},
     "output_type": "display_data"
    }
   ],
   "source": [
    "# Create subplots with 1 row and 2 columns\n",
    "fig, ax = plt.subplots(1, 2, figsize=(15, 5))\n",
    "\n",
    "# Create bar plots for 'fc' and 'pc' with specified axes\n",
    "sns.barplot(data=df, ax=ax[0], x='price_range', y='front_camera_mpixels')\n",
    "sns.barplot(data=df, x='price_range', y='pc', ax=ax[1])\n",
    "\n",
    "# Set titles for subplots\n",
    "ax[0].set_title(\"Price Range vs Front Camera Megapixel\")\n",
    "ax[1].set_title(\"Price Range vs Primary Camera Megapixel\")\n",
    "\n",
    "# Display the plots\n",
    "plt.show()"
   ]
  },
  {
   "cell_type": "markdown",
   "id": "620b06bb-2120-43f7-8415-114ff1c4df63",
   "metadata": {},
   "source": [
    "Anehnya, kisaran harga 3 (biaya tinggi) memiliki kamera depan yang lebih baik dan memiliki megapiksel kamera utama yang sangat dekat dengan ponsel termahal."
   ]
  },
  {
   "cell_type": "code",
   "execution_count": 19,
   "id": "4081587a-c130-44ad-9b59-5658e71a368b",
   "metadata": {
    "tags": []
   },
   "outputs": [
    {
     "name": "stdout",
     "output_type": "stream",
     "text": [
      "price_range\n",
      "4    33.976\n",
      "2    32.116\n",
      "1    31.174\n",
      "3    30.920\n",
      "Name: int_memory, dtype: float64\n",
      "price_range\n",
      "3    4.682\n",
      "1    4.600\n",
      "4    4.502\n",
      "2    4.298\n",
      "Name: n_cores, dtype: float64\n"
     ]
    }
   ],
   "source": [
    "print(df[\"int_memory\"].groupby(df[\"price_range\"]).mean().sort_values(ascending=False))\n",
    "print(df[\"n_cores\"].groupby(df[\"price_range\"]).mean().sort_values(ascending=False))"
   ]
  },
  {
   "cell_type": "markdown",
   "id": "4e94e599-549b-4219-a1f4-708ab35d95a4",
   "metadata": {},
   "source": [
    "Menurut saya, membeli ponsel di kisaran harga 3 akan sangat bermanfaat bagi seseorang yang suka fotografi dan suka selfie, karena beberapa ponsel di kisaran harga 3 juga tidak terlalu buruk memori internalnya, masih di kisaran 30 meski di kisaran 2 adalah yang terendah.\n",
    "\n",
    "Seseorang yang menyukai game sebaiknya membeli ponsel dalam kisaran harga 3, karena memiliki angka core yang paling tinggi."
   ]
  },
  {
   "cell_type": "code",
   "execution_count": 20,
   "id": "28029f5e-2cbe-48de-a551-3e397fadc503",
   "metadata": {},
   "outputs": [
    {
     "data": {
      "text/html": [
       "<div>\n",
       "<style scoped>\n",
       "    .dataframe tbody tr th:only-of-type {\n",
       "        vertical-align: middle;\n",
       "    }\n",
       "\n",
       "    .dataframe tbody tr th {\n",
       "        vertical-align: top;\n",
       "    }\n",
       "\n",
       "    .dataframe thead th {\n",
       "        text-align: right;\n",
       "    }\n",
       "</style>\n",
       "<table border=\"1\" class=\"dataframe\">\n",
       "  <thead>\n",
       "    <tr style=\"text-align: right;\">\n",
       "      <th></th>\n",
       "      <th>battery_power</th>\n",
       "      <th>bluetooth</th>\n",
       "      <th>clock_speed</th>\n",
       "      <th>dual_sim</th>\n",
       "      <th>front_camera_mpixels</th>\n",
       "      <th>has_4g</th>\n",
       "      <th>int_memory</th>\n",
       "      <th>m_dep</th>\n",
       "      <th>mobile_wt</th>\n",
       "      <th>n_cores</th>\n",
       "      <th>...</th>\n",
       "      <th>px_height</th>\n",
       "      <th>px_width</th>\n",
       "      <th>ram</th>\n",
       "      <th>sc_h</th>\n",
       "      <th>sc_w</th>\n",
       "      <th>talk_time</th>\n",
       "      <th>has_3g</th>\n",
       "      <th>touch_screen</th>\n",
       "      <th>wifi</th>\n",
       "      <th>price_range</th>\n",
       "    </tr>\n",
       "  </thead>\n",
       "  <tbody>\n",
       "    <tr>\n",
       "      <th>0</th>\n",
       "      <td>842</td>\n",
       "      <td>No</td>\n",
       "      <td>2.2</td>\n",
       "      <td>No</td>\n",
       "      <td>1</td>\n",
       "      <td>No</td>\n",
       "      <td>7</td>\n",
       "      <td>0.6</td>\n",
       "      <td>188</td>\n",
       "      <td>2</td>\n",
       "      <td>...</td>\n",
       "      <td>20</td>\n",
       "      <td>756</td>\n",
       "      <td>2549</td>\n",
       "      <td>9</td>\n",
       "      <td>7</td>\n",
       "      <td>19</td>\n",
       "      <td>No</td>\n",
       "      <td>No</td>\n",
       "      <td>Yes</td>\n",
       "      <td>2</td>\n",
       "    </tr>\n",
       "    <tr>\n",
       "      <th>1</th>\n",
       "      <td>1021</td>\n",
       "      <td>Yes</td>\n",
       "      <td>0.5</td>\n",
       "      <td>Yes</td>\n",
       "      <td>0</td>\n",
       "      <td>Yes</td>\n",
       "      <td>53</td>\n",
       "      <td>0.7</td>\n",
       "      <td>136</td>\n",
       "      <td>3</td>\n",
       "      <td>...</td>\n",
       "      <td>905</td>\n",
       "      <td>1988</td>\n",
       "      <td>2631</td>\n",
       "      <td>17</td>\n",
       "      <td>3</td>\n",
       "      <td>7</td>\n",
       "      <td>Yes</td>\n",
       "      <td>Yes</td>\n",
       "      <td>No</td>\n",
       "      <td>3</td>\n",
       "    </tr>\n",
       "    <tr>\n",
       "      <th>2</th>\n",
       "      <td>563</td>\n",
       "      <td>Yes</td>\n",
       "      <td>0.5</td>\n",
       "      <td>Yes</td>\n",
       "      <td>2</td>\n",
       "      <td>Yes</td>\n",
       "      <td>41</td>\n",
       "      <td>0.9</td>\n",
       "      <td>145</td>\n",
       "      <td>5</td>\n",
       "      <td>...</td>\n",
       "      <td>1263</td>\n",
       "      <td>1716</td>\n",
       "      <td>2603</td>\n",
       "      <td>11</td>\n",
       "      <td>2</td>\n",
       "      <td>9</td>\n",
       "      <td>Yes</td>\n",
       "      <td>Yes</td>\n",
       "      <td>No</td>\n",
       "      <td>3</td>\n",
       "    </tr>\n",
       "    <tr>\n",
       "      <th>3</th>\n",
       "      <td>615</td>\n",
       "      <td>Yes</td>\n",
       "      <td>2.5</td>\n",
       "      <td>No</td>\n",
       "      <td>0</td>\n",
       "      <td>No</td>\n",
       "      <td>10</td>\n",
       "      <td>0.8</td>\n",
       "      <td>131</td>\n",
       "      <td>6</td>\n",
       "      <td>...</td>\n",
       "      <td>1216</td>\n",
       "      <td>1786</td>\n",
       "      <td>2769</td>\n",
       "      <td>16</td>\n",
       "      <td>8</td>\n",
       "      <td>11</td>\n",
       "      <td>Yes</td>\n",
       "      <td>No</td>\n",
       "      <td>No</td>\n",
       "      <td>3</td>\n",
       "    </tr>\n",
       "    <tr>\n",
       "      <th>4</th>\n",
       "      <td>1821</td>\n",
       "      <td>Yes</td>\n",
       "      <td>1.2</td>\n",
       "      <td>No</td>\n",
       "      <td>13</td>\n",
       "      <td>Yes</td>\n",
       "      <td>44</td>\n",
       "      <td>0.6</td>\n",
       "      <td>141</td>\n",
       "      <td>2</td>\n",
       "      <td>...</td>\n",
       "      <td>1208</td>\n",
       "      <td>1212</td>\n",
       "      <td>1411</td>\n",
       "      <td>8</td>\n",
       "      <td>2</td>\n",
       "      <td>15</td>\n",
       "      <td>Yes</td>\n",
       "      <td>Yes</td>\n",
       "      <td>No</td>\n",
       "      <td>2</td>\n",
       "    </tr>\n",
       "  </tbody>\n",
       "</table>\n",
       "<p>5 rows × 21 columns</p>\n",
       "</div>"
      ],
      "text/plain": [
       "   battery_power bluetooth  clock_speed dual_sim  front_camera_mpixels has_4g  \\\n",
       "0            842        No          2.2       No                     1     No   \n",
       "1           1021       Yes          0.5      Yes                     0    Yes   \n",
       "2            563       Yes          0.5      Yes                     2    Yes   \n",
       "3            615       Yes          2.5       No                     0     No   \n",
       "4           1821       Yes          1.2       No                    13    Yes   \n",
       "\n",
       "   int_memory  m_dep  mobile_wt  n_cores  ...  px_height  px_width   ram  \\\n",
       "0           7    0.6        188        2  ...         20       756  2549   \n",
       "1          53    0.7        136        3  ...        905      1988  2631   \n",
       "2          41    0.9        145        5  ...       1263      1716  2603   \n",
       "3          10    0.8        131        6  ...       1216      1786  2769   \n",
       "4          44    0.6        141        2  ...       1208      1212  1411   \n",
       "\n",
       "   sc_h  sc_w  talk_time  has_3g touch_screen wifi price_range  \n",
       "0     9     7         19      No           No  Yes           2  \n",
       "1    17     3          7     Yes          Yes   No           3  \n",
       "2    11     2          9     Yes          Yes   No           3  \n",
       "3    16     8         11     Yes           No   No           3  \n",
       "4     8     2         15     Yes          Yes   No           2  \n",
       "\n",
       "[5 rows x 21 columns]"
      ]
     },
     "execution_count": 20,
     "metadata": {},
     "output_type": "execute_result"
    }
   ],
   "source": [
    "df.head()"
   ]
  },
  {
   "cell_type": "code",
   "execution_count": 21,
   "id": "e2d121b0-d87e-4986-b715-13e060ffdc02",
   "metadata": {
    "tags": []
   },
   "outputs": [
    {
     "name": "stdout",
     "output_type": "stream",
     "text": [
      "<class 'pandas.core.frame.DataFrame'>\n",
      "RangeIndex: 2000 entries, 0 to 1999\n",
      "Data columns (total 21 columns):\n",
      " #   Column                Non-Null Count  Dtype  \n",
      "---  ------                --------------  -----  \n",
      " 0   battery_power         2000 non-null   int64  \n",
      " 1   bluetooth             2000 non-null   object \n",
      " 2   clock_speed           2000 non-null   float64\n",
      " 3   dual_sim              2000 non-null   object \n",
      " 4   front_camera_mpixels  2000 non-null   int64  \n",
      " 5   has_4g                2000 non-null   object \n",
      " 6   int_memory            2000 non-null   int64  \n",
      " 7   m_dep                 2000 non-null   float64\n",
      " 8   mobile_wt             2000 non-null   int64  \n",
      " 9   n_cores               2000 non-null   int64  \n",
      " 10  pc                    2000 non-null   int64  \n",
      " 11  px_height             2000 non-null   int64  \n",
      " 12  px_width              2000 non-null   int64  \n",
      " 13  ram                   2000 non-null   int64  \n",
      " 14  sc_h                  2000 non-null   int64  \n",
      " 15  sc_w                  2000 non-null   int64  \n",
      " 16  talk_time             2000 non-null   int64  \n",
      " 17  has_3g                2000 non-null   object \n",
      " 18  touch_screen          2000 non-null   object \n",
      " 19  wifi                  2000 non-null   object \n",
      " 20  price_range           2000 non-null   int64  \n",
      "dtypes: float64(2), int64(13), object(6)\n",
      "memory usage: 328.3+ KB\n"
     ]
    }
   ],
   "source": [
    "df.info()"
   ]
  },
  {
   "cell_type": "markdown",
   "id": "4ba0905d-dcfd-4612-ae39-c9dfd2d9e48d",
   "metadata": {},
   "source": [
    "### Feature Enginering"
   ]
  },
  {
   "cell_type": "code",
   "execution_count": 22,
   "id": "bcc18fbd-9cef-499e-af0a-fc217b3eba07",
   "metadata": {
    "tags": []
   },
   "outputs": [],
   "source": [
    "bluetooth = {'Yes' : 1, 'No' : 0}"
   ]
  },
  {
   "cell_type": "code",
   "execution_count": 23,
   "id": "aafcf15d-2619-45c8-9c8d-367d900be4a0",
   "metadata": {
    "tags": []
   },
   "outputs": [],
   "source": [
    "df['bluetooth'] = df['bluetooth'].map(bluetooth)"
   ]
  },
  {
   "cell_type": "code",
   "execution_count": 24,
   "id": "8ed4440a-a6c2-4658-bb6a-82c3cf814889",
   "metadata": {
    "tags": []
   },
   "outputs": [
    {
     "data": {
      "text/html": [
       "<div>\n",
       "<style scoped>\n",
       "    .dataframe tbody tr th:only-of-type {\n",
       "        vertical-align: middle;\n",
       "    }\n",
       "\n",
       "    .dataframe tbody tr th {\n",
       "        vertical-align: top;\n",
       "    }\n",
       "\n",
       "    .dataframe thead th {\n",
       "        text-align: right;\n",
       "    }\n",
       "</style>\n",
       "<table border=\"1\" class=\"dataframe\">\n",
       "  <thead>\n",
       "    <tr style=\"text-align: right;\">\n",
       "      <th></th>\n",
       "      <th>battery_power</th>\n",
       "      <th>bluetooth</th>\n",
       "      <th>clock_speed</th>\n",
       "      <th>dual_sim</th>\n",
       "      <th>front_camera_mpixels</th>\n",
       "      <th>has_4g</th>\n",
       "      <th>int_memory</th>\n",
       "      <th>m_dep</th>\n",
       "      <th>mobile_wt</th>\n",
       "      <th>n_cores</th>\n",
       "      <th>...</th>\n",
       "      <th>px_height</th>\n",
       "      <th>px_width</th>\n",
       "      <th>ram</th>\n",
       "      <th>sc_h</th>\n",
       "      <th>sc_w</th>\n",
       "      <th>talk_time</th>\n",
       "      <th>has_3g</th>\n",
       "      <th>touch_screen</th>\n",
       "      <th>wifi</th>\n",
       "      <th>price_range</th>\n",
       "    </tr>\n",
       "  </thead>\n",
       "  <tbody>\n",
       "    <tr>\n",
       "      <th>0</th>\n",
       "      <td>842</td>\n",
       "      <td>0</td>\n",
       "      <td>2.2</td>\n",
       "      <td>No</td>\n",
       "      <td>1</td>\n",
       "      <td>No</td>\n",
       "      <td>7</td>\n",
       "      <td>0.6</td>\n",
       "      <td>188</td>\n",
       "      <td>2</td>\n",
       "      <td>...</td>\n",
       "      <td>20</td>\n",
       "      <td>756</td>\n",
       "      <td>2549</td>\n",
       "      <td>9</td>\n",
       "      <td>7</td>\n",
       "      <td>19</td>\n",
       "      <td>No</td>\n",
       "      <td>No</td>\n",
       "      <td>Yes</td>\n",
       "      <td>2</td>\n",
       "    </tr>\n",
       "    <tr>\n",
       "      <th>1</th>\n",
       "      <td>1021</td>\n",
       "      <td>1</td>\n",
       "      <td>0.5</td>\n",
       "      <td>Yes</td>\n",
       "      <td>0</td>\n",
       "      <td>Yes</td>\n",
       "      <td>53</td>\n",
       "      <td>0.7</td>\n",
       "      <td>136</td>\n",
       "      <td>3</td>\n",
       "      <td>...</td>\n",
       "      <td>905</td>\n",
       "      <td>1988</td>\n",
       "      <td>2631</td>\n",
       "      <td>17</td>\n",
       "      <td>3</td>\n",
       "      <td>7</td>\n",
       "      <td>Yes</td>\n",
       "      <td>Yes</td>\n",
       "      <td>No</td>\n",
       "      <td>3</td>\n",
       "    </tr>\n",
       "    <tr>\n",
       "      <th>2</th>\n",
       "      <td>563</td>\n",
       "      <td>1</td>\n",
       "      <td>0.5</td>\n",
       "      <td>Yes</td>\n",
       "      <td>2</td>\n",
       "      <td>Yes</td>\n",
       "      <td>41</td>\n",
       "      <td>0.9</td>\n",
       "      <td>145</td>\n",
       "      <td>5</td>\n",
       "      <td>...</td>\n",
       "      <td>1263</td>\n",
       "      <td>1716</td>\n",
       "      <td>2603</td>\n",
       "      <td>11</td>\n",
       "      <td>2</td>\n",
       "      <td>9</td>\n",
       "      <td>Yes</td>\n",
       "      <td>Yes</td>\n",
       "      <td>No</td>\n",
       "      <td>3</td>\n",
       "    </tr>\n",
       "    <tr>\n",
       "      <th>3</th>\n",
       "      <td>615</td>\n",
       "      <td>1</td>\n",
       "      <td>2.5</td>\n",
       "      <td>No</td>\n",
       "      <td>0</td>\n",
       "      <td>No</td>\n",
       "      <td>10</td>\n",
       "      <td>0.8</td>\n",
       "      <td>131</td>\n",
       "      <td>6</td>\n",
       "      <td>...</td>\n",
       "      <td>1216</td>\n",
       "      <td>1786</td>\n",
       "      <td>2769</td>\n",
       "      <td>16</td>\n",
       "      <td>8</td>\n",
       "      <td>11</td>\n",
       "      <td>Yes</td>\n",
       "      <td>No</td>\n",
       "      <td>No</td>\n",
       "      <td>3</td>\n",
       "    </tr>\n",
       "    <tr>\n",
       "      <th>4</th>\n",
       "      <td>1821</td>\n",
       "      <td>1</td>\n",
       "      <td>1.2</td>\n",
       "      <td>No</td>\n",
       "      <td>13</td>\n",
       "      <td>Yes</td>\n",
       "      <td>44</td>\n",
       "      <td>0.6</td>\n",
       "      <td>141</td>\n",
       "      <td>2</td>\n",
       "      <td>...</td>\n",
       "      <td>1208</td>\n",
       "      <td>1212</td>\n",
       "      <td>1411</td>\n",
       "      <td>8</td>\n",
       "      <td>2</td>\n",
       "      <td>15</td>\n",
       "      <td>Yes</td>\n",
       "      <td>Yes</td>\n",
       "      <td>No</td>\n",
       "      <td>2</td>\n",
       "    </tr>\n",
       "  </tbody>\n",
       "</table>\n",
       "<p>5 rows × 21 columns</p>\n",
       "</div>"
      ],
      "text/plain": [
       "   battery_power  bluetooth  clock_speed dual_sim  front_camera_mpixels  \\\n",
       "0            842          0          2.2       No                     1   \n",
       "1           1021          1          0.5      Yes                     0   \n",
       "2            563          1          0.5      Yes                     2   \n",
       "3            615          1          2.5       No                     0   \n",
       "4           1821          1          1.2       No                    13   \n",
       "\n",
       "  has_4g  int_memory  m_dep  mobile_wt  n_cores  ...  px_height  px_width  \\\n",
       "0     No           7    0.6        188        2  ...         20       756   \n",
       "1    Yes          53    0.7        136        3  ...        905      1988   \n",
       "2    Yes          41    0.9        145        5  ...       1263      1716   \n",
       "3     No          10    0.8        131        6  ...       1216      1786   \n",
       "4    Yes          44    0.6        141        2  ...       1208      1212   \n",
       "\n",
       "    ram  sc_h  sc_w  talk_time  has_3g touch_screen wifi price_range  \n",
       "0  2549     9     7         19      No           No  Yes           2  \n",
       "1  2631    17     3          7     Yes          Yes   No           3  \n",
       "2  2603    11     2          9     Yes          Yes   No           3  \n",
       "3  2769    16     8         11     Yes           No   No           3  \n",
       "4  1411     8     2         15     Yes          Yes   No           2  \n",
       "\n",
       "[5 rows x 21 columns]"
      ]
     },
     "execution_count": 24,
     "metadata": {},
     "output_type": "execute_result"
    }
   ],
   "source": [
    "df.head()"
   ]
  },
  {
   "cell_type": "code",
   "execution_count": 25,
   "id": "2ac7a867-ed26-4c20-9406-2b7aa7bb97f7",
   "metadata": {
    "tags": []
   },
   "outputs": [
    {
     "data": {
      "text/plain": [
       "array(['No', 'Yes'], dtype=object)"
      ]
     },
     "execution_count": 25,
     "metadata": {},
     "output_type": "execute_result"
    }
   ],
   "source": [
    "df['dual_sim'].unique()"
   ]
  },
  {
   "cell_type": "code",
   "execution_count": 26,
   "id": "3009ee04-8943-41ac-a81d-a94fa1eaedd7",
   "metadata": {
    "tags": []
   },
   "outputs": [],
   "source": [
    "dual_sim = {'Yes' : 1, 'No' : 0}\n",
    "df['dual_sim'] = df['dual_sim'].map(dual_sim)"
   ]
  },
  {
   "cell_type": "code",
   "execution_count": 27,
   "id": "1878b40a-9cb2-496f-a531-1927a8f6bf9c",
   "metadata": {
    "tags": []
   },
   "outputs": [
    {
     "data": {
      "text/html": [
       "<div>\n",
       "<style scoped>\n",
       "    .dataframe tbody tr th:only-of-type {\n",
       "        vertical-align: middle;\n",
       "    }\n",
       "\n",
       "    .dataframe tbody tr th {\n",
       "        vertical-align: top;\n",
       "    }\n",
       "\n",
       "    .dataframe thead th {\n",
       "        text-align: right;\n",
       "    }\n",
       "</style>\n",
       "<table border=\"1\" class=\"dataframe\">\n",
       "  <thead>\n",
       "    <tr style=\"text-align: right;\">\n",
       "      <th></th>\n",
       "      <th>battery_power</th>\n",
       "      <th>bluetooth</th>\n",
       "      <th>clock_speed</th>\n",
       "      <th>dual_sim</th>\n",
       "      <th>front_camera_mpixels</th>\n",
       "      <th>has_4g</th>\n",
       "      <th>int_memory</th>\n",
       "      <th>m_dep</th>\n",
       "      <th>mobile_wt</th>\n",
       "      <th>n_cores</th>\n",
       "      <th>...</th>\n",
       "      <th>px_height</th>\n",
       "      <th>px_width</th>\n",
       "      <th>ram</th>\n",
       "      <th>sc_h</th>\n",
       "      <th>sc_w</th>\n",
       "      <th>talk_time</th>\n",
       "      <th>has_3g</th>\n",
       "      <th>touch_screen</th>\n",
       "      <th>wifi</th>\n",
       "      <th>price_range</th>\n",
       "    </tr>\n",
       "  </thead>\n",
       "  <tbody>\n",
       "    <tr>\n",
       "      <th>0</th>\n",
       "      <td>842</td>\n",
       "      <td>0</td>\n",
       "      <td>2.2</td>\n",
       "      <td>0</td>\n",
       "      <td>1</td>\n",
       "      <td>No</td>\n",
       "      <td>7</td>\n",
       "      <td>0.6</td>\n",
       "      <td>188</td>\n",
       "      <td>2</td>\n",
       "      <td>...</td>\n",
       "      <td>20</td>\n",
       "      <td>756</td>\n",
       "      <td>2549</td>\n",
       "      <td>9</td>\n",
       "      <td>7</td>\n",
       "      <td>19</td>\n",
       "      <td>No</td>\n",
       "      <td>No</td>\n",
       "      <td>Yes</td>\n",
       "      <td>2</td>\n",
       "    </tr>\n",
       "    <tr>\n",
       "      <th>1</th>\n",
       "      <td>1021</td>\n",
       "      <td>1</td>\n",
       "      <td>0.5</td>\n",
       "      <td>1</td>\n",
       "      <td>0</td>\n",
       "      <td>Yes</td>\n",
       "      <td>53</td>\n",
       "      <td>0.7</td>\n",
       "      <td>136</td>\n",
       "      <td>3</td>\n",
       "      <td>...</td>\n",
       "      <td>905</td>\n",
       "      <td>1988</td>\n",
       "      <td>2631</td>\n",
       "      <td>17</td>\n",
       "      <td>3</td>\n",
       "      <td>7</td>\n",
       "      <td>Yes</td>\n",
       "      <td>Yes</td>\n",
       "      <td>No</td>\n",
       "      <td>3</td>\n",
       "    </tr>\n",
       "    <tr>\n",
       "      <th>2</th>\n",
       "      <td>563</td>\n",
       "      <td>1</td>\n",
       "      <td>0.5</td>\n",
       "      <td>1</td>\n",
       "      <td>2</td>\n",
       "      <td>Yes</td>\n",
       "      <td>41</td>\n",
       "      <td>0.9</td>\n",
       "      <td>145</td>\n",
       "      <td>5</td>\n",
       "      <td>...</td>\n",
       "      <td>1263</td>\n",
       "      <td>1716</td>\n",
       "      <td>2603</td>\n",
       "      <td>11</td>\n",
       "      <td>2</td>\n",
       "      <td>9</td>\n",
       "      <td>Yes</td>\n",
       "      <td>Yes</td>\n",
       "      <td>No</td>\n",
       "      <td>3</td>\n",
       "    </tr>\n",
       "    <tr>\n",
       "      <th>3</th>\n",
       "      <td>615</td>\n",
       "      <td>1</td>\n",
       "      <td>2.5</td>\n",
       "      <td>0</td>\n",
       "      <td>0</td>\n",
       "      <td>No</td>\n",
       "      <td>10</td>\n",
       "      <td>0.8</td>\n",
       "      <td>131</td>\n",
       "      <td>6</td>\n",
       "      <td>...</td>\n",
       "      <td>1216</td>\n",
       "      <td>1786</td>\n",
       "      <td>2769</td>\n",
       "      <td>16</td>\n",
       "      <td>8</td>\n",
       "      <td>11</td>\n",
       "      <td>Yes</td>\n",
       "      <td>No</td>\n",
       "      <td>No</td>\n",
       "      <td>3</td>\n",
       "    </tr>\n",
       "    <tr>\n",
       "      <th>4</th>\n",
       "      <td>1821</td>\n",
       "      <td>1</td>\n",
       "      <td>1.2</td>\n",
       "      <td>0</td>\n",
       "      <td>13</td>\n",
       "      <td>Yes</td>\n",
       "      <td>44</td>\n",
       "      <td>0.6</td>\n",
       "      <td>141</td>\n",
       "      <td>2</td>\n",
       "      <td>...</td>\n",
       "      <td>1208</td>\n",
       "      <td>1212</td>\n",
       "      <td>1411</td>\n",
       "      <td>8</td>\n",
       "      <td>2</td>\n",
       "      <td>15</td>\n",
       "      <td>Yes</td>\n",
       "      <td>Yes</td>\n",
       "      <td>No</td>\n",
       "      <td>2</td>\n",
       "    </tr>\n",
       "  </tbody>\n",
       "</table>\n",
       "<p>5 rows × 21 columns</p>\n",
       "</div>"
      ],
      "text/plain": [
       "   battery_power  bluetooth  clock_speed  dual_sim  front_camera_mpixels  \\\n",
       "0            842          0          2.2         0                     1   \n",
       "1           1021          1          0.5         1                     0   \n",
       "2            563          1          0.5         1                     2   \n",
       "3            615          1          2.5         0                     0   \n",
       "4           1821          1          1.2         0                    13   \n",
       "\n",
       "  has_4g  int_memory  m_dep  mobile_wt  n_cores  ...  px_height  px_width  \\\n",
       "0     No           7    0.6        188        2  ...         20       756   \n",
       "1    Yes          53    0.7        136        3  ...        905      1988   \n",
       "2    Yes          41    0.9        145        5  ...       1263      1716   \n",
       "3     No          10    0.8        131        6  ...       1216      1786   \n",
       "4    Yes          44    0.6        141        2  ...       1208      1212   \n",
       "\n",
       "    ram  sc_h  sc_w  talk_time  has_3g touch_screen wifi price_range  \n",
       "0  2549     9     7         19      No           No  Yes           2  \n",
       "1  2631    17     3          7     Yes          Yes   No           3  \n",
       "2  2603    11     2          9     Yes          Yes   No           3  \n",
       "3  2769    16     8         11     Yes           No   No           3  \n",
       "4  1411     8     2         15     Yes          Yes   No           2  \n",
       "\n",
       "[5 rows x 21 columns]"
      ]
     },
     "execution_count": 27,
     "metadata": {},
     "output_type": "execute_result"
    }
   ],
   "source": [
    "df.head()"
   ]
  },
  {
   "cell_type": "code",
   "execution_count": 28,
   "id": "7124fdbf-dbd6-48e1-b672-6502c5f20f66",
   "metadata": {
    "tags": []
   },
   "outputs": [
    {
     "data": {
      "text/plain": [
       "array(['No', 'Yes'], dtype=object)"
      ]
     },
     "execution_count": 28,
     "metadata": {},
     "output_type": "execute_result"
    }
   ],
   "source": [
    "df['has_4g'].unique()"
   ]
  },
  {
   "cell_type": "code",
   "execution_count": 29,
   "id": "3f58a34f-5c0c-4ad7-9cad-598dcdd97c23",
   "metadata": {
    "tags": []
   },
   "outputs": [],
   "source": [
    "has_4g = {'Yes' : 1, 'No' : 0}\n",
    "df['has_4g'] = df['has_4g'].map(has_4g)"
   ]
  },
  {
   "cell_type": "code",
   "execution_count": 31,
   "id": "92b09cbc-a97d-4734-b573-f48d48b45a89",
   "metadata": {
    "tags": []
   },
   "outputs": [
    {
     "data": {
      "text/html": [
       "<div>\n",
       "<style scoped>\n",
       "    .dataframe tbody tr th:only-of-type {\n",
       "        vertical-align: middle;\n",
       "    }\n",
       "\n",
       "    .dataframe tbody tr th {\n",
       "        vertical-align: top;\n",
       "    }\n",
       "\n",
       "    .dataframe thead th {\n",
       "        text-align: right;\n",
       "    }\n",
       "</style>\n",
       "<table border=\"1\" class=\"dataframe\">\n",
       "  <thead>\n",
       "    <tr style=\"text-align: right;\">\n",
       "      <th></th>\n",
       "      <th>battery_power</th>\n",
       "      <th>bluetooth</th>\n",
       "      <th>clock_speed</th>\n",
       "      <th>dual_sim</th>\n",
       "      <th>front_camera_mpixels</th>\n",
       "      <th>has_4g</th>\n",
       "      <th>int_memory</th>\n",
       "      <th>m_dep</th>\n",
       "      <th>mobile_wt</th>\n",
       "      <th>n_cores</th>\n",
       "      <th>...</th>\n",
       "      <th>px_height</th>\n",
       "      <th>px_width</th>\n",
       "      <th>ram</th>\n",
       "      <th>sc_h</th>\n",
       "      <th>sc_w</th>\n",
       "      <th>talk_time</th>\n",
       "      <th>has_3g</th>\n",
       "      <th>touch_screen</th>\n",
       "      <th>wifi</th>\n",
       "      <th>price_range</th>\n",
       "    </tr>\n",
       "  </thead>\n",
       "  <tbody>\n",
       "    <tr>\n",
       "      <th>0</th>\n",
       "      <td>842</td>\n",
       "      <td>0</td>\n",
       "      <td>2.2</td>\n",
       "      <td>0</td>\n",
       "      <td>1</td>\n",
       "      <td>0</td>\n",
       "      <td>7</td>\n",
       "      <td>0.6</td>\n",
       "      <td>188</td>\n",
       "      <td>2</td>\n",
       "      <td>...</td>\n",
       "      <td>20</td>\n",
       "      <td>756</td>\n",
       "      <td>2549</td>\n",
       "      <td>9</td>\n",
       "      <td>7</td>\n",
       "      <td>19</td>\n",
       "      <td>No</td>\n",
       "      <td>No</td>\n",
       "      <td>Yes</td>\n",
       "      <td>2</td>\n",
       "    </tr>\n",
       "    <tr>\n",
       "      <th>1</th>\n",
       "      <td>1021</td>\n",
       "      <td>1</td>\n",
       "      <td>0.5</td>\n",
       "      <td>1</td>\n",
       "      <td>0</td>\n",
       "      <td>1</td>\n",
       "      <td>53</td>\n",
       "      <td>0.7</td>\n",
       "      <td>136</td>\n",
       "      <td>3</td>\n",
       "      <td>...</td>\n",
       "      <td>905</td>\n",
       "      <td>1988</td>\n",
       "      <td>2631</td>\n",
       "      <td>17</td>\n",
       "      <td>3</td>\n",
       "      <td>7</td>\n",
       "      <td>Yes</td>\n",
       "      <td>Yes</td>\n",
       "      <td>No</td>\n",
       "      <td>3</td>\n",
       "    </tr>\n",
       "    <tr>\n",
       "      <th>2</th>\n",
       "      <td>563</td>\n",
       "      <td>1</td>\n",
       "      <td>0.5</td>\n",
       "      <td>1</td>\n",
       "      <td>2</td>\n",
       "      <td>1</td>\n",
       "      <td>41</td>\n",
       "      <td>0.9</td>\n",
       "      <td>145</td>\n",
       "      <td>5</td>\n",
       "      <td>...</td>\n",
       "      <td>1263</td>\n",
       "      <td>1716</td>\n",
       "      <td>2603</td>\n",
       "      <td>11</td>\n",
       "      <td>2</td>\n",
       "      <td>9</td>\n",
       "      <td>Yes</td>\n",
       "      <td>Yes</td>\n",
       "      <td>No</td>\n",
       "      <td>3</td>\n",
       "    </tr>\n",
       "    <tr>\n",
       "      <th>3</th>\n",
       "      <td>615</td>\n",
       "      <td>1</td>\n",
       "      <td>2.5</td>\n",
       "      <td>0</td>\n",
       "      <td>0</td>\n",
       "      <td>0</td>\n",
       "      <td>10</td>\n",
       "      <td>0.8</td>\n",
       "      <td>131</td>\n",
       "      <td>6</td>\n",
       "      <td>...</td>\n",
       "      <td>1216</td>\n",
       "      <td>1786</td>\n",
       "      <td>2769</td>\n",
       "      <td>16</td>\n",
       "      <td>8</td>\n",
       "      <td>11</td>\n",
       "      <td>Yes</td>\n",
       "      <td>No</td>\n",
       "      <td>No</td>\n",
       "      <td>3</td>\n",
       "    </tr>\n",
       "    <tr>\n",
       "      <th>4</th>\n",
       "      <td>1821</td>\n",
       "      <td>1</td>\n",
       "      <td>1.2</td>\n",
       "      <td>0</td>\n",
       "      <td>13</td>\n",
       "      <td>1</td>\n",
       "      <td>44</td>\n",
       "      <td>0.6</td>\n",
       "      <td>141</td>\n",
       "      <td>2</td>\n",
       "      <td>...</td>\n",
       "      <td>1208</td>\n",
       "      <td>1212</td>\n",
       "      <td>1411</td>\n",
       "      <td>8</td>\n",
       "      <td>2</td>\n",
       "      <td>15</td>\n",
       "      <td>Yes</td>\n",
       "      <td>Yes</td>\n",
       "      <td>No</td>\n",
       "      <td>2</td>\n",
       "    </tr>\n",
       "  </tbody>\n",
       "</table>\n",
       "<p>5 rows × 21 columns</p>\n",
       "</div>"
      ],
      "text/plain": [
       "   battery_power  bluetooth  clock_speed  dual_sim  front_camera_mpixels  \\\n",
       "0            842          0          2.2         0                     1   \n",
       "1           1021          1          0.5         1                     0   \n",
       "2            563          1          0.5         1                     2   \n",
       "3            615          1          2.5         0                     0   \n",
       "4           1821          1          1.2         0                    13   \n",
       "\n",
       "   has_4g  int_memory  m_dep  mobile_wt  n_cores  ...  px_height  px_width  \\\n",
       "0       0           7    0.6        188        2  ...         20       756   \n",
       "1       1          53    0.7        136        3  ...        905      1988   \n",
       "2       1          41    0.9        145        5  ...       1263      1716   \n",
       "3       0          10    0.8        131        6  ...       1216      1786   \n",
       "4       1          44    0.6        141        2  ...       1208      1212   \n",
       "\n",
       "    ram  sc_h  sc_w  talk_time  has_3g touch_screen wifi price_range  \n",
       "0  2549     9     7         19      No           No  Yes           2  \n",
       "1  2631    17     3          7     Yes          Yes   No           3  \n",
       "2  2603    11     2          9     Yes          Yes   No           3  \n",
       "3  2769    16     8         11     Yes           No   No           3  \n",
       "4  1411     8     2         15     Yes          Yes   No           2  \n",
       "\n",
       "[5 rows x 21 columns]"
      ]
     },
     "execution_count": 31,
     "metadata": {},
     "output_type": "execute_result"
    }
   ],
   "source": [
    "df.head()"
   ]
  },
  {
   "cell_type": "code",
   "execution_count": 32,
   "id": "bba026fa-4d78-4bf7-ac87-c2be8a6b77ea",
   "metadata": {
    "tags": []
   },
   "outputs": [
    {
     "data": {
      "text/plain": [
       "array(['No', 'Yes'], dtype=object)"
      ]
     },
     "execution_count": 32,
     "metadata": {},
     "output_type": "execute_result"
    }
   ],
   "source": [
    "df['has_3g'].unique()"
   ]
  },
  {
   "cell_type": "code",
   "execution_count": 33,
   "id": "d7839773-40cd-4228-ad60-e1d261190bc4",
   "metadata": {
    "tags": []
   },
   "outputs": [
    {
     "data": {
      "text/plain": [
       "array(['No', 'Yes'], dtype=object)"
      ]
     },
     "execution_count": 33,
     "metadata": {},
     "output_type": "execute_result"
    }
   ],
   "source": [
    "df['touch_screen'].unique()"
   ]
  },
  {
   "cell_type": "code",
   "execution_count": 34,
   "id": "27c41f61-43c3-40f9-9158-70a5509a4813",
   "metadata": {
    "tags": []
   },
   "outputs": [
    {
     "data": {
      "text/plain": [
       "array(['Yes', 'No'], dtype=object)"
      ]
     },
     "execution_count": 34,
     "metadata": {},
     "output_type": "execute_result"
    }
   ],
   "source": [
    "df['wifi'].unique()"
   ]
  },
  {
   "cell_type": "code",
   "execution_count": 35,
   "id": "183b1dd8-ff06-4413-b1b3-53efe482acd1",
   "metadata": {
    "tags": []
   },
   "outputs": [],
   "source": [
    "has_3g = {'Yes' : 1, 'No' : 0}\n",
    "df['has_3g'] = df['has_3g'].map(has_3g)\n",
    "\n",
    "touch_screen = {'Yes' : 1, 'No' : 0}\n",
    "df['touch_screen'] = df['touch_screen'].map(touch_screen)\n",
    "\n",
    "wifi = {'Yes' : 1, 'No' : 0}\n",
    "df['wifi'] = df['wifi'].map(wifi)"
   ]
  },
  {
   "cell_type": "code",
   "execution_count": 36,
   "id": "b96005f9-912b-4f38-8e58-eead51690778",
   "metadata": {
    "tags": []
   },
   "outputs": [
    {
     "data": {
      "text/html": [
       "<div>\n",
       "<style scoped>\n",
       "    .dataframe tbody tr th:only-of-type {\n",
       "        vertical-align: middle;\n",
       "    }\n",
       "\n",
       "    .dataframe tbody tr th {\n",
       "        vertical-align: top;\n",
       "    }\n",
       "\n",
       "    .dataframe thead th {\n",
       "        text-align: right;\n",
       "    }\n",
       "</style>\n",
       "<table border=\"1\" class=\"dataframe\">\n",
       "  <thead>\n",
       "    <tr style=\"text-align: right;\">\n",
       "      <th></th>\n",
       "      <th>battery_power</th>\n",
       "      <th>bluetooth</th>\n",
       "      <th>clock_speed</th>\n",
       "      <th>dual_sim</th>\n",
       "      <th>front_camera_mpixels</th>\n",
       "      <th>has_4g</th>\n",
       "      <th>int_memory</th>\n",
       "      <th>m_dep</th>\n",
       "      <th>mobile_wt</th>\n",
       "      <th>n_cores</th>\n",
       "      <th>...</th>\n",
       "      <th>px_height</th>\n",
       "      <th>px_width</th>\n",
       "      <th>ram</th>\n",
       "      <th>sc_h</th>\n",
       "      <th>sc_w</th>\n",
       "      <th>talk_time</th>\n",
       "      <th>has_3g</th>\n",
       "      <th>touch_screen</th>\n",
       "      <th>wifi</th>\n",
       "      <th>price_range</th>\n",
       "    </tr>\n",
       "  </thead>\n",
       "  <tbody>\n",
       "    <tr>\n",
       "      <th>0</th>\n",
       "      <td>842</td>\n",
       "      <td>0</td>\n",
       "      <td>2.2</td>\n",
       "      <td>0</td>\n",
       "      <td>1</td>\n",
       "      <td>0</td>\n",
       "      <td>7</td>\n",
       "      <td>0.6</td>\n",
       "      <td>188</td>\n",
       "      <td>2</td>\n",
       "      <td>...</td>\n",
       "      <td>20</td>\n",
       "      <td>756</td>\n",
       "      <td>2549</td>\n",
       "      <td>9</td>\n",
       "      <td>7</td>\n",
       "      <td>19</td>\n",
       "      <td>0</td>\n",
       "      <td>0</td>\n",
       "      <td>1</td>\n",
       "      <td>2</td>\n",
       "    </tr>\n",
       "    <tr>\n",
       "      <th>1</th>\n",
       "      <td>1021</td>\n",
       "      <td>1</td>\n",
       "      <td>0.5</td>\n",
       "      <td>1</td>\n",
       "      <td>0</td>\n",
       "      <td>1</td>\n",
       "      <td>53</td>\n",
       "      <td>0.7</td>\n",
       "      <td>136</td>\n",
       "      <td>3</td>\n",
       "      <td>...</td>\n",
       "      <td>905</td>\n",
       "      <td>1988</td>\n",
       "      <td>2631</td>\n",
       "      <td>17</td>\n",
       "      <td>3</td>\n",
       "      <td>7</td>\n",
       "      <td>1</td>\n",
       "      <td>1</td>\n",
       "      <td>0</td>\n",
       "      <td>3</td>\n",
       "    </tr>\n",
       "    <tr>\n",
       "      <th>2</th>\n",
       "      <td>563</td>\n",
       "      <td>1</td>\n",
       "      <td>0.5</td>\n",
       "      <td>1</td>\n",
       "      <td>2</td>\n",
       "      <td>1</td>\n",
       "      <td>41</td>\n",
       "      <td>0.9</td>\n",
       "      <td>145</td>\n",
       "      <td>5</td>\n",
       "      <td>...</td>\n",
       "      <td>1263</td>\n",
       "      <td>1716</td>\n",
       "      <td>2603</td>\n",
       "      <td>11</td>\n",
       "      <td>2</td>\n",
       "      <td>9</td>\n",
       "      <td>1</td>\n",
       "      <td>1</td>\n",
       "      <td>0</td>\n",
       "      <td>3</td>\n",
       "    </tr>\n",
       "    <tr>\n",
       "      <th>3</th>\n",
       "      <td>615</td>\n",
       "      <td>1</td>\n",
       "      <td>2.5</td>\n",
       "      <td>0</td>\n",
       "      <td>0</td>\n",
       "      <td>0</td>\n",
       "      <td>10</td>\n",
       "      <td>0.8</td>\n",
       "      <td>131</td>\n",
       "      <td>6</td>\n",
       "      <td>...</td>\n",
       "      <td>1216</td>\n",
       "      <td>1786</td>\n",
       "      <td>2769</td>\n",
       "      <td>16</td>\n",
       "      <td>8</td>\n",
       "      <td>11</td>\n",
       "      <td>1</td>\n",
       "      <td>0</td>\n",
       "      <td>0</td>\n",
       "      <td>3</td>\n",
       "    </tr>\n",
       "    <tr>\n",
       "      <th>4</th>\n",
       "      <td>1821</td>\n",
       "      <td>1</td>\n",
       "      <td>1.2</td>\n",
       "      <td>0</td>\n",
       "      <td>13</td>\n",
       "      <td>1</td>\n",
       "      <td>44</td>\n",
       "      <td>0.6</td>\n",
       "      <td>141</td>\n",
       "      <td>2</td>\n",
       "      <td>...</td>\n",
       "      <td>1208</td>\n",
       "      <td>1212</td>\n",
       "      <td>1411</td>\n",
       "      <td>8</td>\n",
       "      <td>2</td>\n",
       "      <td>15</td>\n",
       "      <td>1</td>\n",
       "      <td>1</td>\n",
       "      <td>0</td>\n",
       "      <td>2</td>\n",
       "    </tr>\n",
       "  </tbody>\n",
       "</table>\n",
       "<p>5 rows × 21 columns</p>\n",
       "</div>"
      ],
      "text/plain": [
       "   battery_power  bluetooth  clock_speed  dual_sim  front_camera_mpixels  \\\n",
       "0            842          0          2.2         0                     1   \n",
       "1           1021          1          0.5         1                     0   \n",
       "2            563          1          0.5         1                     2   \n",
       "3            615          1          2.5         0                     0   \n",
       "4           1821          1          1.2         0                    13   \n",
       "\n",
       "   has_4g  int_memory  m_dep  mobile_wt  n_cores  ...  px_height  px_width  \\\n",
       "0       0           7    0.6        188        2  ...         20       756   \n",
       "1       1          53    0.7        136        3  ...        905      1988   \n",
       "2       1          41    0.9        145        5  ...       1263      1716   \n",
       "3       0          10    0.8        131        6  ...       1216      1786   \n",
       "4       1          44    0.6        141        2  ...       1208      1212   \n",
       "\n",
       "    ram  sc_h  sc_w  talk_time  has_3g  touch_screen  wifi  price_range  \n",
       "0  2549     9     7         19       0             0     1            2  \n",
       "1  2631    17     3          7       1             1     0            3  \n",
       "2  2603    11     2          9       1             1     0            3  \n",
       "3  2769    16     8         11       1             0     0            3  \n",
       "4  1411     8     2         15       1             1     0            2  \n",
       "\n",
       "[5 rows x 21 columns]"
      ]
     },
     "execution_count": 36,
     "metadata": {},
     "output_type": "execute_result"
    }
   ],
   "source": [
    "df.head()"
   ]
  },
  {
   "cell_type": "markdown",
   "id": "5f594755-4180-4df9-b961-a10a5c34b922",
   "metadata": {},
   "source": [
    "Sekarang seluruh feature sudah menjadi feature numeric"
   ]
  },
  {
   "cell_type": "code",
   "execution_count": 37,
   "id": "3c118201-28cc-4b73-8f18-649c6ab869fd",
   "metadata": {
    "tags": []
   },
   "outputs": [
    {
     "data": {
      "text/plain": [
       "array([ 2,  6,  9, 14,  7, 10,  0, 15,  1, 18, 17, 11, 16,  4, 20, 13,  3,\n",
       "       19,  8,  5, 12])"
      ]
     },
     "execution_count": 37,
     "metadata": {},
     "output_type": "execute_result"
    }
   ],
   "source": [
    "df['pc'].unique()"
   ]
  },
  {
   "cell_type": "code",
   "execution_count": 40,
   "id": "6a92c663-b446-411a-be87-adcaacbab547",
   "metadata": {
    "tags": []
   },
   "outputs": [
    {
     "data": {
      "text/html": [
       "<div>\n",
       "<style scoped>\n",
       "    .dataframe tbody tr th:only-of-type {\n",
       "        vertical-align: middle;\n",
       "    }\n",
       "\n",
       "    .dataframe tbody tr th {\n",
       "        vertical-align: top;\n",
       "    }\n",
       "\n",
       "    .dataframe thead th {\n",
       "        text-align: right;\n",
       "    }\n",
       "</style>\n",
       "<table border=\"1\" class=\"dataframe\">\n",
       "  <thead>\n",
       "    <tr style=\"text-align: right;\">\n",
       "      <th></th>\n",
       "      <th>battery_power</th>\n",
       "      <th>bluetooth</th>\n",
       "      <th>clock_speed</th>\n",
       "      <th>dual_sim</th>\n",
       "      <th>front_camera_mpixels</th>\n",
       "      <th>has_4g</th>\n",
       "      <th>int_memory</th>\n",
       "      <th>m_dep</th>\n",
       "      <th>mobile_wt</th>\n",
       "      <th>n_cores</th>\n",
       "      <th>pc</th>\n",
       "      <th>px_height</th>\n",
       "      <th>px_width</th>\n",
       "      <th>ram</th>\n",
       "      <th>sc_h</th>\n",
       "      <th>sc_w</th>\n",
       "      <th>talk_time</th>\n",
       "      <th>has_3g</th>\n",
       "      <th>touch_screen</th>\n",
       "      <th>wifi</th>\n",
       "      <th>price_range</th>\n",
       "    </tr>\n",
       "  </thead>\n",
       "  <tbody>\n",
       "    <tr>\n",
       "      <th>0</th>\n",
       "      <td>842</td>\n",
       "      <td>0</td>\n",
       "      <td>2.2</td>\n",
       "      <td>0</td>\n",
       "      <td>1</td>\n",
       "      <td>0</td>\n",
       "      <td>7</td>\n",
       "      <td>0.6</td>\n",
       "      <td>188</td>\n",
       "      <td>2</td>\n",
       "      <td>2</td>\n",
       "      <td>20</td>\n",
       "      <td>756</td>\n",
       "      <td>2549</td>\n",
       "      <td>9</td>\n",
       "      <td>7</td>\n",
       "      <td>19</td>\n",
       "      <td>0</td>\n",
       "      <td>0</td>\n",
       "      <td>1</td>\n",
       "      <td>2</td>\n",
       "    </tr>\n",
       "    <tr>\n",
       "      <th>1</th>\n",
       "      <td>1021</td>\n",
       "      <td>1</td>\n",
       "      <td>0.5</td>\n",
       "      <td>1</td>\n",
       "      <td>0</td>\n",
       "      <td>1</td>\n",
       "      <td>53</td>\n",
       "      <td>0.7</td>\n",
       "      <td>136</td>\n",
       "      <td>3</td>\n",
       "      <td>6</td>\n",
       "      <td>905</td>\n",
       "      <td>1988</td>\n",
       "      <td>2631</td>\n",
       "      <td>17</td>\n",
       "      <td>3</td>\n",
       "      <td>7</td>\n",
       "      <td>1</td>\n",
       "      <td>1</td>\n",
       "      <td>0</td>\n",
       "      <td>3</td>\n",
       "    </tr>\n",
       "    <tr>\n",
       "      <th>2</th>\n",
       "      <td>563</td>\n",
       "      <td>1</td>\n",
       "      <td>0.5</td>\n",
       "      <td>1</td>\n",
       "      <td>2</td>\n",
       "      <td>1</td>\n",
       "      <td>41</td>\n",
       "      <td>0.9</td>\n",
       "      <td>145</td>\n",
       "      <td>5</td>\n",
       "      <td>6</td>\n",
       "      <td>1263</td>\n",
       "      <td>1716</td>\n",
       "      <td>2603</td>\n",
       "      <td>11</td>\n",
       "      <td>2</td>\n",
       "      <td>9</td>\n",
       "      <td>1</td>\n",
       "      <td>1</td>\n",
       "      <td>0</td>\n",
       "      <td>3</td>\n",
       "    </tr>\n",
       "    <tr>\n",
       "      <th>3</th>\n",
       "      <td>615</td>\n",
       "      <td>1</td>\n",
       "      <td>2.5</td>\n",
       "      <td>0</td>\n",
       "      <td>0</td>\n",
       "      <td>0</td>\n",
       "      <td>10</td>\n",
       "      <td>0.8</td>\n",
       "      <td>131</td>\n",
       "      <td>6</td>\n",
       "      <td>9</td>\n",
       "      <td>1216</td>\n",
       "      <td>1786</td>\n",
       "      <td>2769</td>\n",
       "      <td>16</td>\n",
       "      <td>8</td>\n",
       "      <td>11</td>\n",
       "      <td>1</td>\n",
       "      <td>0</td>\n",
       "      <td>0</td>\n",
       "      <td>3</td>\n",
       "    </tr>\n",
       "    <tr>\n",
       "      <th>4</th>\n",
       "      <td>1821</td>\n",
       "      <td>1</td>\n",
       "      <td>1.2</td>\n",
       "      <td>0</td>\n",
       "      <td>13</td>\n",
       "      <td>1</td>\n",
       "      <td>44</td>\n",
       "      <td>0.6</td>\n",
       "      <td>141</td>\n",
       "      <td>2</td>\n",
       "      <td>14</td>\n",
       "      <td>1208</td>\n",
       "      <td>1212</td>\n",
       "      <td>1411</td>\n",
       "      <td>8</td>\n",
       "      <td>2</td>\n",
       "      <td>15</td>\n",
       "      <td>1</td>\n",
       "      <td>1</td>\n",
       "      <td>0</td>\n",
       "      <td>2</td>\n",
       "    </tr>\n",
       "  </tbody>\n",
       "</table>\n",
       "</div>"
      ],
      "text/plain": [
       "   battery_power  bluetooth  clock_speed  dual_sim  front_camera_mpixels  \\\n",
       "0            842          0          2.2         0                     1   \n",
       "1           1021          1          0.5         1                     0   \n",
       "2            563          1          0.5         1                     2   \n",
       "3            615          1          2.5         0                     0   \n",
       "4           1821          1          1.2         0                    13   \n",
       "\n",
       "   has_4g  int_memory  m_dep  mobile_wt  n_cores  pc  px_height  px_width  \\\n",
       "0       0           7    0.6        188        2   2         20       756   \n",
       "1       1          53    0.7        136        3   6        905      1988   \n",
       "2       1          41    0.9        145        5   6       1263      1716   \n",
       "3       0          10    0.8        131        6   9       1216      1786   \n",
       "4       1          44    0.6        141        2  14       1208      1212   \n",
       "\n",
       "    ram  sc_h  sc_w  talk_time  has_3g  touch_screen  wifi  price_range  \n",
       "0  2549     9     7         19       0             0     1            2  \n",
       "1  2631    17     3          7       1             1     0            3  \n",
       "2  2603    11     2          9       1             1     0            3  \n",
       "3  2769    16     8         11       1             0     0            3  \n",
       "4  1411     8     2         15       1             1     0            2  "
      ]
     },
     "execution_count": 40,
     "metadata": {},
     "output_type": "execute_result"
    }
   ],
   "source": [
    "pd.set_option('display.max_columns', None)\n",
    "df.head()"
   ]
  },
  {
   "cell_type": "code",
   "execution_count": null,
   "id": "2dc91daf-bc4e-4d3e-91ba-d9a0484cd7f5",
   "metadata": {},
   "outputs": [],
   "source": []
  }
 ],
 "metadata": {
  "kernelspec": {
   "display_name": "Python 3 (ipykernel)",
   "language": "python",
   "name": "python3"
  },
  "language_info": {
   "codemirror_mode": {
    "name": "ipython",
    "version": 3
   },
   "file_extension": ".py",
   "mimetype": "text/x-python",
   "name": "python",
   "nbconvert_exporter": "python",
   "pygments_lexer": "ipython3",
   "version": "3.11.4"
  }
 },
 "nbformat": 4,
 "nbformat_minor": 5
}
